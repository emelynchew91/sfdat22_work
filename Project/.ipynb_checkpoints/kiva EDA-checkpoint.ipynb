{
 "cells": [
  {
   "cell_type": "code",
   "execution_count": 1,
   "metadata": {
    "collapsed": false,
    "scrolled": true
   },
   "outputs": [
    {
     "data": {
      "text/html": [
       "<div>\n",
       "<table border=\"1\" class=\"dataframe\">\n",
       "  <thead>\n",
       "    <tr style=\"text-align: right;\">\n",
       "      <th></th>\n",
       "      <th>Unnamed: 0</th>\n",
       "      <th>business_description</th>\n",
       "      <th>business_name</th>\n",
       "      <th>city</th>\n",
       "      <th>conversations</th>\n",
       "      <th>disbursed</th>\n",
       "      <th>industry</th>\n",
       "      <th>invited_lenders</th>\n",
       "      <th>listed</th>\n",
       "      <th>loan_id</th>\n",
       "      <th>...</th>\n",
       "      <th>borrower_ethnicity</th>\n",
       "      <th>gender</th>\n",
       "      <th>borrower_education</th>\n",
       "      <th>borrower_internet_frequency</th>\n",
       "      <th>borrower_primary_language</th>\n",
       "      <th>business_url</th>\n",
       "      <th>business_twitter_url</th>\n",
       "      <th>business_facebook_url</th>\n",
       "      <th>business_yelp_url</th>\n",
       "      <th>social_media</th>\n",
       "    </tr>\n",
       "  </thead>\n",
       "  <tbody>\n",
       "    <tr>\n",
       "      <th>0</th>\n",
       "      <td>839</td>\n",
       "      <td>Business Description\\rIn 2009, I rented a gara...</td>\n",
       "      <td>Pacific Brewing Laboratory</td>\n",
       "      <td>San Francisco, CA</td>\n",
       "      <td>7.0</td>\n",
       "      <td>12/9/11</td>\n",
       "      <td>Food production</td>\n",
       "      <td>0</td>\n",
       "      <td>11/28/11</td>\n",
       "      <td>15</td>\n",
       "      <td>...</td>\n",
       "      <td>caucasian</td>\n",
       "      <td>male</td>\n",
       "      <td>college</td>\n",
       "      <td>daily</td>\n",
       "      <td>English</td>\n",
       "      <td>http://www.pacbrewlab.com</td>\n",
       "      <td>NaN</td>\n",
       "      <td>NaN</td>\n",
       "      <td>NaN</td>\n",
       "      <td>1</td>\n",
       "    </tr>\n",
       "    <tr>\n",
       "      <th>1</th>\n",
       "      <td>841</td>\n",
       "      <td>Business Description\\rNeighborhood Coffee Shop...</td>\n",
       "      <td>Cafeto Coffee Shop</td>\n",
       "      <td>San Francisco, CA</td>\n",
       "      <td>15.0</td>\n",
       "      <td>12/21/11</td>\n",
       "      <td>Restaurant / Caterers</td>\n",
       "      <td>0</td>\n",
       "      <td>11/29/11</td>\n",
       "      <td>17</td>\n",
       "      <td>...</td>\n",
       "      <td>hispanic</td>\n",
       "      <td>male</td>\n",
       "      <td>primary</td>\n",
       "      <td>weekly</td>\n",
       "      <td>Spanish</td>\n",
       "      <td>NaN</td>\n",
       "      <td>NaN</td>\n",
       "      <td>NaN</td>\n",
       "      <td>http://www.yelp.com/biz/cafeto-san-francisco</td>\n",
       "      <td>1</td>\n",
       "    </tr>\n",
       "    <tr>\n",
       "      <th>2</th>\n",
       "      <td>318</td>\n",
       "      <td>Business Description\\rHello everyone, please a...</td>\n",
       "      <td>Nail Studio</td>\n",
       "      <td>San Francisco, CA</td>\n",
       "      <td>NaN</td>\n",
       "      <td>12/21/11</td>\n",
       "      <td>Beauty / Cosmetics</td>\n",
       "      <td>0</td>\n",
       "      <td>11/29/11</td>\n",
       "      <td>18</td>\n",
       "      <td>...</td>\n",
       "      <td>hispanic</td>\n",
       "      <td>female</td>\n",
       "      <td>college</td>\n",
       "      <td>daily</td>\n",
       "      <td>Other</td>\n",
       "      <td>NaN</td>\n",
       "      <td>NaN</td>\n",
       "      <td>NaN</td>\n",
       "      <td>NaN</td>\n",
       "      <td>0</td>\n",
       "    </tr>\n",
       "    <tr>\n",
       "      <th>3</th>\n",
       "      <td>316</td>\n",
       "      <td>Business Description\\rSaafara is a line of pre...</td>\n",
       "      <td>Saafara Tea (Group Helene Samb, LLC)</td>\n",
       "      <td>San Francisco, CA</td>\n",
       "      <td>14.0</td>\n",
       "      <td>12/23/11</td>\n",
       "      <td>Food production</td>\n",
       "      <td>0</td>\n",
       "      <td>12/14/11</td>\n",
       "      <td>19</td>\n",
       "      <td>...</td>\n",
       "      <td>african_american</td>\n",
       "      <td>male</td>\n",
       "      <td>college</td>\n",
       "      <td>daily</td>\n",
       "      <td>Wolof, French and English</td>\n",
       "      <td>http://saafara.com</td>\n",
       "      <td>NaN</td>\n",
       "      <td>NaN</td>\n",
       "      <td>NaN</td>\n",
       "      <td>1</td>\n",
       "    </tr>\n",
       "    <tr>\n",
       "      <th>4</th>\n",
       "      <td>1383</td>\n",
       "      <td>Business Description\\rPFC is a San Francisco H...</td>\n",
       "      <td>Planet Fillmore Communications (PFC)</td>\n",
       "      <td>San Francisco, CA</td>\n",
       "      <td>5.0</td>\n",
       "      <td>12/23/11</td>\n",
       "      <td>Communications / Media</td>\n",
       "      <td>0</td>\n",
       "      <td>12/6/11</td>\n",
       "      <td>21</td>\n",
       "      <td>...</td>\n",
       "      <td>african_american</td>\n",
       "      <td>male</td>\n",
       "      <td>college</td>\n",
       "      <td>daily</td>\n",
       "      <td>English</td>\n",
       "      <td>http://www.youtube.com/user/PlanetFillmore</td>\n",
       "      <td>NaN</td>\n",
       "      <td>NaN</td>\n",
       "      <td>NaN</td>\n",
       "      <td>1</td>\n",
       "    </tr>\n",
       "    <tr>\n",
       "      <th>5</th>\n",
       "      <td>1381</td>\n",
       "      <td>Business Description\\rStageTrix Products manuf...</td>\n",
       "      <td>StageTrix Products</td>\n",
       "      <td>San Rafael, CA</td>\n",
       "      <td>4.0</td>\n",
       "      <td>12/23/11</td>\n",
       "      <td>Entertainment</td>\n",
       "      <td>0</td>\n",
       "      <td>12/18/11</td>\n",
       "      <td>25</td>\n",
       "      <td>...</td>\n",
       "      <td>caucasian</td>\n",
       "      <td>male</td>\n",
       "      <td>college</td>\n",
       "      <td>daily</td>\n",
       "      <td>English</td>\n",
       "      <td>http://www.stagetrixproducts.com</td>\n",
       "      <td>NaN</td>\n",
       "      <td>NaN</td>\n",
       "      <td>NaN</td>\n",
       "      <td>1</td>\n",
       "    </tr>\n",
       "    <tr>\n",
       "      <th>6</th>\n",
       "      <td>969</td>\n",
       "      <td>Business Description\\rJ Style at Home was crea...</td>\n",
       "      <td>J Style at Home Inc.</td>\n",
       "      <td>Brisbane, CA</td>\n",
       "      <td>3.0</td>\n",
       "      <td>3/16/12</td>\n",
       "      <td>Construction / Contractor</td>\n",
       "      <td>0</td>\n",
       "      <td>2/2/12</td>\n",
       "      <td>26</td>\n",
       "      <td>...</td>\n",
       "      <td>hispanic</td>\n",
       "      <td>male</td>\n",
       "      <td>college</td>\n",
       "      <td>daily</td>\n",
       "      <td>English</td>\n",
       "      <td>http://www.jstyleathome.com</td>\n",
       "      <td>NaN</td>\n",
       "      <td>NaN</td>\n",
       "      <td>NaN</td>\n",
       "      <td>1</td>\n",
       "    </tr>\n",
       "    <tr>\n",
       "      <th>7</th>\n",
       "      <td>1867</td>\n",
       "      <td>Business Description\\rTopShelf is a Mobile Bou...</td>\n",
       "      <td>TopShelf Boutique</td>\n",
       "      <td>San Francisco, CA</td>\n",
       "      <td>7.0</td>\n",
       "      <td>3/30/12</td>\n",
       "      <td>Clothing / Jewelry / Accessories</td>\n",
       "      <td>1</td>\n",
       "      <td>3/9/12</td>\n",
       "      <td>35</td>\n",
       "      <td>...</td>\n",
       "      <td>hispanic</td>\n",
       "      <td>female</td>\n",
       "      <td>college</td>\n",
       "      <td>daily</td>\n",
       "      <td>English</td>\n",
       "      <td>http://www.topshelfstyle.com</td>\n",
       "      <td>NaN</td>\n",
       "      <td>NaN</td>\n",
       "      <td>NaN</td>\n",
       "      <td>1</td>\n",
       "    </tr>\n",
       "    <tr>\n",
       "      <th>8</th>\n",
       "      <td>466</td>\n",
       "      <td>Business Description\\rJarred SF Brine is an id...</td>\n",
       "      <td>Jarred SF Brine</td>\n",
       "      <td>San Francisco, CA</td>\n",
       "      <td>20.0</td>\n",
       "      <td>3/26/12</td>\n",
       "      <td>Food production</td>\n",
       "      <td>0</td>\n",
       "      <td>2/22/12</td>\n",
       "      <td>50</td>\n",
       "      <td>...</td>\n",
       "      <td>hispanic</td>\n",
       "      <td>female</td>\n",
       "      <td>college</td>\n",
       "      <td>daily</td>\n",
       "      <td>English</td>\n",
       "      <td>http://jarredsf.com</td>\n",
       "      <td>NaN</td>\n",
       "      <td>NaN</td>\n",
       "      <td>NaN</td>\n",
       "      <td>1</td>\n",
       "    </tr>\n",
       "    <tr>\n",
       "      <th>9</th>\n",
       "      <td>463</td>\n",
       "      <td>Business Description\\rImptees Designs will sel...</td>\n",
       "      <td>Imptees Designs</td>\n",
       "      <td>San Francisco, CA</td>\n",
       "      <td>9.0</td>\n",
       "      <td>3/30/12</td>\n",
       "      <td>Clothing / Jewelry / Accessories</td>\n",
       "      <td>0</td>\n",
       "      <td>2/28/12</td>\n",
       "      <td>54</td>\n",
       "      <td>...</td>\n",
       "      <td>caucasian</td>\n",
       "      <td>male</td>\n",
       "      <td>college</td>\n",
       "      <td>daily</td>\n",
       "      <td>English</td>\n",
       "      <td>NaN</td>\n",
       "      <td>NaN</td>\n",
       "      <td>NaN</td>\n",
       "      <td>NaN</td>\n",
       "      <td>0</td>\n",
       "    </tr>\n",
       "    <tr>\n",
       "      <th>10</th>\n",
       "      <td>462</td>\n",
       "      <td>Business Description\\rMichel��s Designs is a f...</td>\n",
       "      <td>Michel's  Design</td>\n",
       "      <td>San Francisco, CA</td>\n",
       "      <td>12.0</td>\n",
       "      <td>6/20/12</td>\n",
       "      <td>Florist</td>\n",
       "      <td>2</td>\n",
       "      <td>5/31/12</td>\n",
       "      <td>55</td>\n",
       "      <td>...</td>\n",
       "      <td>hispanic</td>\n",
       "      <td>female</td>\n",
       "      <td>high_school</td>\n",
       "      <td>daily</td>\n",
       "      <td>Other</td>\n",
       "      <td>http://michelsdesign.com</td>\n",
       "      <td>NaN</td>\n",
       "      <td>NaN</td>\n",
       "      <td>NaN</td>\n",
       "      <td>1</td>\n",
       "    </tr>\n",
       "    <tr>\n",
       "      <th>11</th>\n",
       "      <td>93</td>\n",
       "      <td>Business Description\\rTaking advantage of the ...</td>\n",
       "      <td>Feve Artisan Chocolatier</td>\n",
       "      <td>San Francisco, CA</td>\n",
       "      <td>16.0</td>\n",
       "      <td>4/24/12</td>\n",
       "      <td>Food production</td>\n",
       "      <td>1</td>\n",
       "      <td>4/4/12</td>\n",
       "      <td>90</td>\n",
       "      <td>...</td>\n",
       "      <td>caucasian</td>\n",
       "      <td>female</td>\n",
       "      <td>post_college</td>\n",
       "      <td>daily</td>\n",
       "      <td>English</td>\n",
       "      <td>http://www.fevechocolates.com</td>\n",
       "      <td>NaN</td>\n",
       "      <td>NaN</td>\n",
       "      <td>NaN</td>\n",
       "      <td>1</td>\n",
       "    </tr>\n",
       "    <tr>\n",
       "      <th>12</th>\n",
       "      <td>94</td>\n",
       "      <td>Business Description\\rOld Skool Cafe is a fait...</td>\n",
       "      <td>Old Skool Cafe</td>\n",
       "      <td>San Francisco, CA</td>\n",
       "      <td>11.0</td>\n",
       "      <td>4/25/12</td>\n",
       "      <td>Restaurant / Caterers</td>\n",
       "      <td>0</td>\n",
       "      <td>4/5/12</td>\n",
       "      <td>92</td>\n",
       "      <td>...</td>\n",
       "      <td>caucasian</td>\n",
       "      <td>female</td>\n",
       "      <td>college</td>\n",
       "      <td>daily</td>\n",
       "      <td>English</td>\n",
       "      <td>http://www.oldskoolcafe.org/</td>\n",
       "      <td>NaN</td>\n",
       "      <td>NaN</td>\n",
       "      <td>NaN</td>\n",
       "      <td>1</td>\n",
       "    </tr>\n",
       "    <tr>\n",
       "      <th>13</th>\n",
       "      <td>58</td>\n",
       "      <td>Business Description\\rAs I began to conceptual...</td>\n",
       "      <td>Skincare by Feleciai</td>\n",
       "      <td>Oakland, CA</td>\n",
       "      <td>8.0</td>\n",
       "      <td>4/26/12</td>\n",
       "      <td>Beauty / Cosmetics</td>\n",
       "      <td>0</td>\n",
       "      <td>4/11/12</td>\n",
       "      <td>104</td>\n",
       "      <td>...</td>\n",
       "      <td>african_american</td>\n",
       "      <td>female</td>\n",
       "      <td>post_college</td>\n",
       "      <td>daily</td>\n",
       "      <td>English</td>\n",
       "      <td>http://www.facebook.com/skincarebyfeleciai</td>\n",
       "      <td>NaN</td>\n",
       "      <td>NaN</td>\n",
       "      <td>NaN</td>\n",
       "      <td>1</td>\n",
       "    </tr>\n",
       "    <tr>\n",
       "      <th>14</th>\n",
       "      <td>57</td>\n",
       "      <td>Business Description\\rImagine a self-serve fro...</td>\n",
       "      <td>Yippie Yogurt</td>\n",
       "      <td>Fairfield, CA</td>\n",
       "      <td>4.0</td>\n",
       "      <td>6/30/12</td>\n",
       "      <td>Restaurant / Caterers</td>\n",
       "      <td>0</td>\n",
       "      <td>5/30/12</td>\n",
       "      <td>107</td>\n",
       "      <td>...</td>\n",
       "      <td>caucasian</td>\n",
       "      <td>male</td>\n",
       "      <td>post_college</td>\n",
       "      <td>daily</td>\n",
       "      <td>English</td>\n",
       "      <td>http://yippieyogurt.com</td>\n",
       "      <td>NaN</td>\n",
       "      <td>NaN</td>\n",
       "      <td>NaN</td>\n",
       "      <td>1</td>\n",
       "    </tr>\n",
       "    <tr>\n",
       "      <th>15</th>\n",
       "      <td>2299</td>\n",
       "      <td>Business Description\\rMendocino Organics is a ...</td>\n",
       "      <td>Mendocino Organics</td>\n",
       "      <td>Redwood Valley, CA</td>\n",
       "      <td>20.0</td>\n",
       "      <td>8/23/12</td>\n",
       "      <td>Food production</td>\n",
       "      <td>0</td>\n",
       "      <td>6/27/12</td>\n",
       "      <td>118</td>\n",
       "      <td>...</td>\n",
       "      <td>hispanic</td>\n",
       "      <td>female</td>\n",
       "      <td>high_school</td>\n",
       "      <td>daily</td>\n",
       "      <td>English</td>\n",
       "      <td>http://www.MendocinoOrganics.com.com</td>\n",
       "      <td>http://www.twitter.com/MendoOrganics</td>\n",
       "      <td>http://www.facebook.com/MendocinoOrganics?ref=ts</td>\n",
       "      <td>NaN</td>\n",
       "      <td>3</td>\n",
       "    </tr>\n",
       "  </tbody>\n",
       "</table>\n",
       "<p>16 rows × 30 columns</p>\n",
       "</div>"
      ],
      "text/plain": [
       "    Unnamed: 0                               business_description  \\\n",
       "0          839  Business Description\\rIn 2009, I rented a gara...   \n",
       "1          841  Business Description\\rNeighborhood Coffee Shop...   \n",
       "2          318  Business Description\\rHello everyone, please a...   \n",
       "3          316  Business Description\\rSaafara is a line of pre...   \n",
       "4         1383  Business Description\\rPFC is a San Francisco H...   \n",
       "5         1381  Business Description\\rStageTrix Products manuf...   \n",
       "6          969  Business Description\\rJ Style at Home was crea...   \n",
       "7         1867  Business Description\\rTopShelf is a Mobile Bou...   \n",
       "8          466  Business Description\\rJarred SF Brine is an id...   \n",
       "9          463  Business Description\\rImptees Designs will sel...   \n",
       "10         462  Business Description\\rMichel��s Designs is a f...   \n",
       "11          93  Business Description\\rTaking advantage of the ...   \n",
       "12          94  Business Description\\rOld Skool Cafe is a fait...   \n",
       "13          58  Business Description\\rAs I began to conceptual...   \n",
       "14          57  Business Description\\rImagine a self-serve fro...   \n",
       "15        2299  Business Description\\rMendocino Organics is a ...   \n",
       "\n",
       "                           business_name                city  conversations  \\\n",
       "0             Pacific Brewing Laboratory   San Francisco, CA            7.0   \n",
       "1                     Cafeto Coffee Shop   San Francisco, CA           15.0   \n",
       "2                            Nail Studio   San Francisco, CA            NaN   \n",
       "3   Saafara Tea (Group Helene Samb, LLC)   San Francisco, CA           14.0   \n",
       "4   Planet Fillmore Communications (PFC)   San Francisco, CA            5.0   \n",
       "5                     StageTrix Products      San Rafael, CA            4.0   \n",
       "6                   J Style at Home Inc.        Brisbane, CA            3.0   \n",
       "7                      TopShelf Boutique   San Francisco, CA            7.0   \n",
       "8                        Jarred SF Brine   San Francisco, CA           20.0   \n",
       "9                        Imptees Designs   San Francisco, CA            9.0   \n",
       "10                      Michel's  Design   San Francisco, CA           12.0   \n",
       "11              Feve Artisan Chocolatier   San Francisco, CA           16.0   \n",
       "12                        Old Skool Cafe   San Francisco, CA           11.0   \n",
       "13                  Skincare by Feleciai         Oakland, CA            8.0   \n",
       "14                         Yippie Yogurt       Fairfield, CA            4.0   \n",
       "15                    Mendocino Organics  Redwood Valley, CA           20.0   \n",
       "\n",
       "   disbursed                          industry  invited_lenders    listed  \\\n",
       "0    12/9/11                   Food production                0  11/28/11   \n",
       "1   12/21/11             Restaurant / Caterers                0  11/29/11   \n",
       "2   12/21/11                Beauty / Cosmetics                0  11/29/11   \n",
       "3   12/23/11                   Food production                0  12/14/11   \n",
       "4   12/23/11            Communications / Media                0   12/6/11   \n",
       "5   12/23/11                     Entertainment                0  12/18/11   \n",
       "6    3/16/12         Construction / Contractor                0    2/2/12   \n",
       "7    3/30/12  Clothing / Jewelry / Accessories                1    3/9/12   \n",
       "8    3/26/12                   Food production                0   2/22/12   \n",
       "9    3/30/12  Clothing / Jewelry / Accessories                0   2/28/12   \n",
       "10   6/20/12                           Florist                2   5/31/12   \n",
       "11   4/24/12                   Food production                1    4/4/12   \n",
       "12   4/25/12             Restaurant / Caterers                0    4/5/12   \n",
       "13   4/26/12                Beauty / Cosmetics                0   4/11/12   \n",
       "14   6/30/12             Restaurant / Caterers                0   5/30/12   \n",
       "15   8/23/12                   Food production                0   6/27/12   \n",
       "\n",
       "    loan_id      ...      borrower_ethnicity  gender  borrower_education  \\\n",
       "0        15      ...               caucasian    male             college   \n",
       "1        17      ...                hispanic    male             primary   \n",
       "2        18      ...                hispanic  female             college   \n",
       "3        19      ...        african_american    male             college   \n",
       "4        21      ...        african_american    male             college   \n",
       "5        25      ...               caucasian    male             college   \n",
       "6        26      ...                hispanic    male             college   \n",
       "7        35      ...                hispanic  female             college   \n",
       "8        50      ...                hispanic  female             college   \n",
       "9        54      ...               caucasian    male             college   \n",
       "10       55      ...                hispanic  female         high_school   \n",
       "11       90      ...               caucasian  female        post_college   \n",
       "12       92      ...               caucasian  female             college   \n",
       "13      104      ...        african_american  female        post_college   \n",
       "14      107      ...               caucasian    male        post_college   \n",
       "15      118      ...                hispanic  female         high_school   \n",
       "\n",
       "   borrower_internet_frequency  borrower_primary_language  \\\n",
       "0                        daily                    English   \n",
       "1                       weekly                    Spanish   \n",
       "2                        daily                      Other   \n",
       "3                        daily  Wolof, French and English   \n",
       "4                        daily                    English   \n",
       "5                        daily                    English   \n",
       "6                        daily                    English   \n",
       "7                        daily                    English   \n",
       "8                        daily                    English   \n",
       "9                        daily                    English   \n",
       "10                       daily                      Other   \n",
       "11                       daily                    English   \n",
       "12                       daily                    English   \n",
       "13                       daily                    English   \n",
       "14                       daily                    English   \n",
       "15                       daily                    English   \n",
       "\n",
       "                                  business_url  \\\n",
       "0                    http://www.pacbrewlab.com   \n",
       "1                                          NaN   \n",
       "2                                          NaN   \n",
       "3                           http://saafara.com   \n",
       "4   http://www.youtube.com/user/PlanetFillmore   \n",
       "5             http://www.stagetrixproducts.com   \n",
       "6                  http://www.jstyleathome.com   \n",
       "7                 http://www.topshelfstyle.com   \n",
       "8                          http://jarredsf.com   \n",
       "9                                          NaN   \n",
       "10                    http://michelsdesign.com   \n",
       "11               http://www.fevechocolates.com   \n",
       "12                http://www.oldskoolcafe.org/   \n",
       "13  http://www.facebook.com/skincarebyfeleciai   \n",
       "14                     http://yippieyogurt.com   \n",
       "15        http://www.MendocinoOrganics.com.com   \n",
       "\n",
       "                    business_twitter_url  \\\n",
       "0                                    NaN   \n",
       "1                                    NaN   \n",
       "2                                    NaN   \n",
       "3                                    NaN   \n",
       "4                                    NaN   \n",
       "5                                    NaN   \n",
       "6                                    NaN   \n",
       "7                                    NaN   \n",
       "8                                    NaN   \n",
       "9                                    NaN   \n",
       "10                                   NaN   \n",
       "11                                   NaN   \n",
       "12                                   NaN   \n",
       "13                                   NaN   \n",
       "14                                   NaN   \n",
       "15  http://www.twitter.com/MendoOrganics   \n",
       "\n",
       "                               business_facebook_url  \\\n",
       "0                                                NaN   \n",
       "1                                                NaN   \n",
       "2                                                NaN   \n",
       "3                                                NaN   \n",
       "4                                                NaN   \n",
       "5                                                NaN   \n",
       "6                                                NaN   \n",
       "7                                                NaN   \n",
       "8                                                NaN   \n",
       "9                                                NaN   \n",
       "10                                               NaN   \n",
       "11                                               NaN   \n",
       "12                                               NaN   \n",
       "13                                               NaN   \n",
       "14                                               NaN   \n",
       "15  http://www.facebook.com/MendocinoOrganics?ref=ts   \n",
       "\n",
       "                               business_yelp_url  social_media  \n",
       "0                                            NaN             1  \n",
       "1   http://www.yelp.com/biz/cafeto-san-francisco             1  \n",
       "2                                            NaN             0  \n",
       "3                                            NaN             1  \n",
       "4                                            NaN             1  \n",
       "5                                            NaN             1  \n",
       "6                                            NaN             1  \n",
       "7                                            NaN             1  \n",
       "8                                            NaN             1  \n",
       "9                                            NaN             0  \n",
       "10                                           NaN             1  \n",
       "11                                           NaN             1  \n",
       "12                                           NaN             1  \n",
       "13                                           NaN             1  \n",
       "14                                           NaN             1  \n",
       "15                                           NaN             3  \n",
       "\n",
       "[16 rows x 30 columns]"
      ]
     },
     "execution_count": 1,
     "metadata": {},
     "output_type": "execute_result"
    }
   ],
   "source": [
    "import pandas as pd\n",
    "import numpy as np\n",
    "import matplotlib.pyplot as plt\n",
    "%matplotlib inline\n",
    "kiva = pd.read_csv(\"kiva_total.csv\")\n",
    "kiva.head(16)\n"
   ]
  },
  {
   "cell_type": "code",
   "execution_count": 2,
   "metadata": {
    "collapsed": false
   },
   "outputs": [
    {
     "data": {
      "text/plain": [
       "(2415, 30)"
      ]
     },
     "execution_count": 2,
     "metadata": {},
     "output_type": "execute_result"
    }
   ],
   "source": [
    "kiva.shape"
   ]
  },
  {
   "cell_type": "code",
   "execution_count": 3,
   "metadata": {
    "collapsed": false
   },
   "outputs": [
    {
     "data": {
      "text/plain": [
       "0.0    876\n",
       "1.0    606\n",
       "Name: Bucket_new, dtype: int64"
      ]
     },
     "execution_count": 3,
     "metadata": {},
     "output_type": "execute_result"
    }
   ],
   "source": [
    "kiva.Bucket.value_counts()\n",
    "kiva['Bucket_new'] = kiva.Bucket.map({1:1, 2:1, 6:0, 7:0})\n",
    "#1 = fast fundraising #0 = v slow + expired\n",
    "kiva.Bucket_new.value_counts()"
   ]
  },
  {
   "cell_type": "code",
   "execution_count": 374,
   "metadata": {
    "collapsed": false,
    "scrolled": true
   },
   "outputs": [
    {
     "data": {
      "text/plain": [
       "Unnamed: 0                        0\n",
       "business_description              0\n",
       "business_name                     0\n",
       "city                              0\n",
       "conversations                    67\n",
       "disbursed                       135\n",
       "industry                          0\n",
       "invited_lenders                   0\n",
       "listed                            0\n",
       "loan_id                           0\n",
       "loan_purpose                      0\n",
       "personal_story                    0\n",
       "size                              0\n",
       "status                            0\n",
       "term                              0\n",
       "total_lenders                     0\n",
       "trustee                           0\n",
       "years_experience                  0\n",
       "days_fundraising                  0\n",
       "Bucket                            0\n",
       "borrower_ethnicity              329\n",
       "gender                          101\n",
       "borrower_education              931\n",
       "borrower_internet_frequency     931\n",
       "borrower_primary_language       931\n",
       "business_url                    667\n",
       "business_twitter_url           1407\n",
       "business_facebook_url           727\n",
       "business_yelp_url              2087\n",
       "social_media                      0\n",
       "Bucket_new                      933\n",
       "dtype: int64"
      ]
     },
     "execution_count": 374,
     "metadata": {},
     "output_type": "execute_result"
    }
   ],
   "source": [
    "kiva.isnull().sum()\n",
    "# null disbursed date means the loan did not successfully fundraise"
   ]
  },
  {
   "cell_type": "code",
   "execution_count": 4,
   "metadata": {
    "collapsed": false
   },
   "outputs": [
    {
     "data": {
      "text/plain": [
       "1    2043\n",
       "0     372\n",
       "Name: social_media_new, dtype: int64"
      ]
     },
     "execution_count": 4,
     "metadata": {},
     "output_type": "execute_result"
    }
   ],
   "source": [
    "kiva.social_media.value_counts()\n",
    "kiva['social_media_new'] = kiva.social_media.map({3:1, 2:1, 1:1, 4:1, 0:0})\n",
    "kiva.social_media_new.value_counts()"
   ]
  },
  {
   "cell_type": "code",
   "execution_count": 347,
   "metadata": {
    "collapsed": false
   },
   "outputs": [
    {
     "data": {
      "text/plain": [
       "Index([u'Unnamed: 0', u'business_description', u'business_name', u'city',\n",
       "       u'conversations', u'disbursed', u'industry', u'invited_lenders',\n",
       "       u'listed', u'loan_id', u'loan_purpose', u'personal_story', u'size',\n",
       "       u'status', u'term', u'total_lenders', u'trustee', u'years_experience',\n",
       "       u'days_fundraising', u'Bucket', u'borrower_ethnicity', u'gender',\n",
       "       u'borrower_education', u'borrower_internet_frequency',\n",
       "       u'borrower_primary_language', u'business_url', u'business_twitter_url',\n",
       "       u'business_facebook_url', u'business_yelp_url', u'social_media',\n",
       "       u'Bucket_new', u'social_media_new'],\n",
       "      dtype='object')"
      ]
     },
     "execution_count": 347,
     "metadata": {},
     "output_type": "execute_result"
    }
   ],
   "source": [
    "kiva.columns"
   ]
  },
  {
   "cell_type": "code",
   "execution_count": 348,
   "metadata": {
    "collapsed": false
   },
   "outputs": [
    {
     "data": {
      "text/plain": [
       "PAYING BACK     1529\n",
       "ENDED            547\n",
       "EXPIRED          204\n",
       "FUNDRAISING      112\n",
       "FULLY FUNDED      23\n",
       "Name: status, dtype: int64"
      ]
     },
     "execution_count": 348,
     "metadata": {},
     "output_type": "execute_result"
    }
   ],
   "source": [
    "kiva.status.value_counts()"
   ]
  },
  {
   "cell_type": "code",
   "execution_count": 349,
   "metadata": {
    "collapsed": false
   },
   "outputs": [
    {
     "data": {
      "text/html": [
       "<div>\n",
       "<table border=\"1\" class=\"dataframe\">\n",
       "  <thead>\n",
       "    <tr style=\"text-align: right;\">\n",
       "      <th></th>\n",
       "      <th>Unnamed: 0</th>\n",
       "      <th>conversations</th>\n",
       "      <th>invited_lenders</th>\n",
       "      <th>loan_id</th>\n",
       "      <th>size</th>\n",
       "      <th>term</th>\n",
       "      <th>total_lenders</th>\n",
       "      <th>days_fundraising</th>\n",
       "      <th>Bucket</th>\n",
       "      <th>social_media</th>\n",
       "      <th>Bucket_new</th>\n",
       "      <th>social_media_new</th>\n",
       "    </tr>\n",
       "  </thead>\n",
       "  <tbody>\n",
       "    <tr>\n",
       "      <th>count</th>\n",
       "      <td>2415.000000</td>\n",
       "      <td>2348.000000</td>\n",
       "      <td>2415.000000</td>\n",
       "      <td>2415.000000</td>\n",
       "      <td>2415.000000</td>\n",
       "      <td>2415.000000</td>\n",
       "      <td>2415.000000</td>\n",
       "      <td>2415.000000</td>\n",
       "      <td>2415.000000</td>\n",
       "      <td>2415.000000</td>\n",
       "      <td>1482.000000</td>\n",
       "      <td>2415.000000</td>\n",
       "    </tr>\n",
       "    <tr>\n",
       "      <th>mean</th>\n",
       "      <td>1207.000000</td>\n",
       "      <td>22.043441</td>\n",
       "      <td>14.927950</td>\n",
       "      <td>9763.731677</td>\n",
       "      <td>5617.370600</td>\n",
       "      <td>24.762733</td>\n",
       "      <td>97.398344</td>\n",
       "      <td>-2255.703520</td>\n",
       "      <td>4.200828</td>\n",
       "      <td>1.975983</td>\n",
       "      <td>0.408907</td>\n",
       "      <td>0.845963</td>\n",
       "    </tr>\n",
       "    <tr>\n",
       "      <th>std</th>\n",
       "      <td>697.294773</td>\n",
       "      <td>28.019574</td>\n",
       "      <td>12.621201</td>\n",
       "      <td>6427.155816</td>\n",
       "      <td>10410.798285</td>\n",
       "      <td>8.770503</td>\n",
       "      <td>72.052179</td>\n",
       "      <td>9428.262513</td>\n",
       "      <td>1.875097</td>\n",
       "      <td>1.216874</td>\n",
       "      <td>0.491798</td>\n",
       "      <td>0.361059</td>\n",
       "    </tr>\n",
       "    <tr>\n",
       "      <th>min</th>\n",
       "      <td>0.000000</td>\n",
       "      <td>1.000000</td>\n",
       "      <td>0.000000</td>\n",
       "      <td>15.000000</td>\n",
       "      <td>100.000000</td>\n",
       "      <td>3.000000</td>\n",
       "      <td>1.000000</td>\n",
       "      <td>-41020.000000</td>\n",
       "      <td>1.000000</td>\n",
       "      <td>0.000000</td>\n",
       "      <td>0.000000</td>\n",
       "      <td>0.000000</td>\n",
       "    </tr>\n",
       "    <tr>\n",
       "      <th>25%</th>\n",
       "      <td>603.500000</td>\n",
       "      <td>7.000000</td>\n",
       "      <td>4.000000</td>\n",
       "      <td>3255.500000</td>\n",
       "      <td>4987.500000</td>\n",
       "      <td>24.000000</td>\n",
       "      <td>45.000000</td>\n",
       "      <td>16.000000</td>\n",
       "      <td>2.000000</td>\n",
       "      <td>1.000000</td>\n",
       "      <td>0.000000</td>\n",
       "      <td>1.000000</td>\n",
       "    </tr>\n",
       "    <tr>\n",
       "      <th>50%</th>\n",
       "      <td>1207.000000</td>\n",
       "      <td>14.000000</td>\n",
       "      <td>14.000000</td>\n",
       "      <td>10775.000000</td>\n",
       "      <td>5000.000000</td>\n",
       "      <td>24.000000</td>\n",
       "      <td>79.000000</td>\n",
       "      <td>37.000000</td>\n",
       "      <td>5.000000</td>\n",
       "      <td>2.000000</td>\n",
       "      <td>0.000000</td>\n",
       "      <td>1.000000</td>\n",
       "    </tr>\n",
       "    <tr>\n",
       "      <th>75%</th>\n",
       "      <td>1810.500000</td>\n",
       "      <td>27.000000</td>\n",
       "      <td>23.000000</td>\n",
       "      <td>16666.500000</td>\n",
       "      <td>5000.000000</td>\n",
       "      <td>24.000000</td>\n",
       "      <td>131.000000</td>\n",
       "      <td>54.000000</td>\n",
       "      <td>6.000000</td>\n",
       "      <td>3.000000</td>\n",
       "      <td>1.000000</td>\n",
       "      <td>1.000000</td>\n",
       "    </tr>\n",
       "    <tr>\n",
       "      <th>max</th>\n",
       "      <td>2414.000000</td>\n",
       "      <td>349.000000</td>\n",
       "      <td>103.000000</td>\n",
       "      <td>18276.000000</td>\n",
       "      <td>500600.000000</td>\n",
       "      <td>125.000000</td>\n",
       "      <td>507.000000</td>\n",
       "      <td>155.000000</td>\n",
       "      <td>7.000000</td>\n",
       "      <td>4.000000</td>\n",
       "      <td>1.000000</td>\n",
       "      <td>1.000000</td>\n",
       "    </tr>\n",
       "  </tbody>\n",
       "</table>\n",
       "</div>"
      ],
      "text/plain": [
       "        Unnamed: 0  conversations  invited_lenders       loan_id  \\\n",
       "count  2415.000000    2348.000000      2415.000000   2415.000000   \n",
       "mean   1207.000000      22.043441        14.927950   9763.731677   \n",
       "std     697.294773      28.019574        12.621201   6427.155816   \n",
       "min       0.000000       1.000000         0.000000     15.000000   \n",
       "25%     603.500000       7.000000         4.000000   3255.500000   \n",
       "50%    1207.000000      14.000000        14.000000  10775.000000   \n",
       "75%    1810.500000      27.000000        23.000000  16666.500000   \n",
       "max    2414.000000     349.000000       103.000000  18276.000000   \n",
       "\n",
       "                size         term  total_lenders  days_fundraising  \\\n",
       "count    2415.000000  2415.000000    2415.000000       2415.000000   \n",
       "mean     5617.370600    24.762733      97.398344      -2255.703520   \n",
       "std     10410.798285     8.770503      72.052179       9428.262513   \n",
       "min       100.000000     3.000000       1.000000     -41020.000000   \n",
       "25%      4987.500000    24.000000      45.000000         16.000000   \n",
       "50%      5000.000000    24.000000      79.000000         37.000000   \n",
       "75%      5000.000000    24.000000     131.000000         54.000000   \n",
       "max    500600.000000   125.000000     507.000000        155.000000   \n",
       "\n",
       "            Bucket  social_media   Bucket_new  social_media_new  \n",
       "count  2415.000000   2415.000000  1482.000000       2415.000000  \n",
       "mean      4.200828      1.975983     0.408907          0.845963  \n",
       "std       1.875097      1.216874     0.491798          0.361059  \n",
       "min       1.000000      0.000000     0.000000          0.000000  \n",
       "25%       2.000000      1.000000     0.000000          1.000000  \n",
       "50%       5.000000      2.000000     0.000000          1.000000  \n",
       "75%       6.000000      3.000000     1.000000          1.000000  \n",
       "max       7.000000      4.000000     1.000000          1.000000  "
      ]
     },
     "execution_count": 349,
     "metadata": {},
     "output_type": "execute_result"
    }
   ],
   "source": [
    "kiva.describe()"
   ]
  },
  {
   "cell_type": "code",
   "execution_count": 442,
   "metadata": {
    "collapsed": false,
    "scrolled": true
   },
   "outputs": [],
   "source": [
    "kiva['state'] = kiva.city.str[-2] + kiva.city.str[-1]\n",
    "kiva['status_new'] = kiva.status.map({'PAYING BACK':1, 'ENDED':1, 'EXPIRED':0, 'FULLY FUNDED': 1,})\n",
    "kiva['trustee_new'] = [0 if x == \"Borrowers Network \" else 1 for x in kiva.trustee]\n",
    "print kiva.state.value_counts()\n",
    "print kiva.status_new.value_counts()\n",
    "print kiva.trustee_new.value_counts()"
   ]
  },
  {
   "cell_type": "code",
   "execution_count": 351,
   "metadata": {
    "collapsed": false,
    "scrolled": true
   },
   "outputs": [
    {
     "data": {
      "text/html": [
       "<div>\n",
       "<table border=\"1\" class=\"dataframe\">\n",
       "  <thead>\n",
       "    <tr style=\"text-align: right;\">\n",
       "      <th></th>\n",
       "      <th>loan_id</th>\n",
       "      <th>size</th>\n",
       "    </tr>\n",
       "  </thead>\n",
       "  <tbody>\n",
       "    <tr>\n",
       "      <th>260</th>\n",
       "      <td>1194</td>\n",
       "      <td>100</td>\n",
       "    </tr>\n",
       "    <tr>\n",
       "      <th>1601</th>\n",
       "      <td>14908</td>\n",
       "      <td>200</td>\n",
       "    </tr>\n",
       "    <tr>\n",
       "      <th>355</th>\n",
       "      <td>1554</td>\n",
       "      <td>200</td>\n",
       "    </tr>\n",
       "    <tr>\n",
       "      <th>874</th>\n",
       "      <td>5296</td>\n",
       "      <td>300</td>\n",
       "    </tr>\n",
       "    <tr>\n",
       "      <th>1615</th>\n",
       "      <td>15127</td>\n",
       "      <td>300</td>\n",
       "    </tr>\n",
       "    <tr>\n",
       "      <th>2414</th>\n",
       "      <td>18276</td>\n",
       "      <td>300</td>\n",
       "    </tr>\n",
       "    <tr>\n",
       "      <th>872</th>\n",
       "      <td>5292</td>\n",
       "      <td>400</td>\n",
       "    </tr>\n",
       "    <tr>\n",
       "      <th>1501</th>\n",
       "      <td>13796</td>\n",
       "      <td>450</td>\n",
       "    </tr>\n",
       "    <tr>\n",
       "      <th>1609</th>\n",
       "      <td>15005</td>\n",
       "      <td>500</td>\n",
       "    </tr>\n",
       "    <tr>\n",
       "      <th>1605</th>\n",
       "      <td>14943</td>\n",
       "      <td>500</td>\n",
       "    </tr>\n",
       "    <tr>\n",
       "      <th>1602</th>\n",
       "      <td>14909</td>\n",
       "      <td>500</td>\n",
       "    </tr>\n",
       "    <tr>\n",
       "      <th>1737</th>\n",
       "      <td>16197</td>\n",
       "      <td>500</td>\n",
       "    </tr>\n",
       "    <tr>\n",
       "      <th>1566</th>\n",
       "      <td>14481</td>\n",
       "      <td>500</td>\n",
       "    </tr>\n",
       "    <tr>\n",
       "      <th>1496</th>\n",
       "      <td>13729</td>\n",
       "      <td>500</td>\n",
       "    </tr>\n",
       "    <tr>\n",
       "      <th>1453</th>\n",
       "      <td>13399</td>\n",
       "      <td>500</td>\n",
       "    </tr>\n",
       "    <tr>\n",
       "      <th>1416</th>\n",
       "      <td>12992</td>\n",
       "      <td>500</td>\n",
       "    </tr>\n",
       "    <tr>\n",
       "      <th>936</th>\n",
       "      <td>5906</td>\n",
       "      <td>500</td>\n",
       "    </tr>\n",
       "    <tr>\n",
       "      <th>933</th>\n",
       "      <td>5886</td>\n",
       "      <td>500</td>\n",
       "    </tr>\n",
       "    <tr>\n",
       "      <th>925</th>\n",
       "      <td>5746</td>\n",
       "      <td>500</td>\n",
       "    </tr>\n",
       "    <tr>\n",
       "      <th>1680</th>\n",
       "      <td>15621</td>\n",
       "      <td>500</td>\n",
       "    </tr>\n",
       "    <tr>\n",
       "      <th>845</th>\n",
       "      <td>5184</td>\n",
       "      <td>500</td>\n",
       "    </tr>\n",
       "    <tr>\n",
       "      <th>826</th>\n",
       "      <td>5086</td>\n",
       "      <td>500</td>\n",
       "    </tr>\n",
       "    <tr>\n",
       "      <th>202</th>\n",
       "      <td>852</td>\n",
       "      <td>500</td>\n",
       "    </tr>\n",
       "    <tr>\n",
       "      <th>205</th>\n",
       "      <td>858</td>\n",
       "      <td>500</td>\n",
       "    </tr>\n",
       "    <tr>\n",
       "      <th>411</th>\n",
       "      <td>1946</td>\n",
       "      <td>500</td>\n",
       "    </tr>\n",
       "    <tr>\n",
       "      <th>457</th>\n",
       "      <td>2238</td>\n",
       "      <td>500</td>\n",
       "    </tr>\n",
       "    <tr>\n",
       "      <th>462</th>\n",
       "      <td>2258</td>\n",
       "      <td>500</td>\n",
       "    </tr>\n",
       "    <tr>\n",
       "      <th>470</th>\n",
       "      <td>2310</td>\n",
       "      <td>500</td>\n",
       "    </tr>\n",
       "    <tr>\n",
       "      <th>1844</th>\n",
       "      <td>16722</td>\n",
       "      <td>500</td>\n",
       "    </tr>\n",
       "    <tr>\n",
       "      <th>577</th>\n",
       "      <td>3078</td>\n",
       "      <td>500</td>\n",
       "    </tr>\n",
       "    <tr>\n",
       "      <th>...</th>\n",
       "      <td>...</td>\n",
       "      <td>...</td>\n",
       "    </tr>\n",
       "    <tr>\n",
       "      <th>1989</th>\n",
       "      <td>17069</td>\n",
       "      <td>10000</td>\n",
       "    </tr>\n",
       "    <tr>\n",
       "      <th>1987</th>\n",
       "      <td>17065</td>\n",
       "      <td>10000</td>\n",
       "    </tr>\n",
       "    <tr>\n",
       "      <th>1986</th>\n",
       "      <td>17064</td>\n",
       "      <td>10000</td>\n",
       "    </tr>\n",
       "    <tr>\n",
       "      <th>1983</th>\n",
       "      <td>17060</td>\n",
       "      <td>10000</td>\n",
       "    </tr>\n",
       "    <tr>\n",
       "      <th>244</th>\n",
       "      <td>1152</td>\n",
       "      <td>10000</td>\n",
       "    </tr>\n",
       "    <tr>\n",
       "      <th>1080</th>\n",
       "      <td>8494</td>\n",
       "      <td>10000</td>\n",
       "    </tr>\n",
       "    <tr>\n",
       "      <th>147</th>\n",
       "      <td>717</td>\n",
       "      <td>10000</td>\n",
       "    </tr>\n",
       "    <tr>\n",
       "      <th>1470</th>\n",
       "      <td>13503</td>\n",
       "      <td>10000</td>\n",
       "    </tr>\n",
       "    <tr>\n",
       "      <th>1472</th>\n",
       "      <td>13507</td>\n",
       "      <td>10000</td>\n",
       "    </tr>\n",
       "    <tr>\n",
       "      <th>1975</th>\n",
       "      <td>17045</td>\n",
       "      <td>10000</td>\n",
       "    </tr>\n",
       "    <tr>\n",
       "      <th>1973</th>\n",
       "      <td>17043</td>\n",
       "      <td>10000</td>\n",
       "    </tr>\n",
       "    <tr>\n",
       "      <th>720</th>\n",
       "      <td>4127</td>\n",
       "      <td>10000</td>\n",
       "    </tr>\n",
       "    <tr>\n",
       "      <th>1957</th>\n",
       "      <td>16976</td>\n",
       "      <td>10000</td>\n",
       "    </tr>\n",
       "    <tr>\n",
       "      <th>1949</th>\n",
       "      <td>16958</td>\n",
       "      <td>10000</td>\n",
       "    </tr>\n",
       "    <tr>\n",
       "      <th>737</th>\n",
       "      <td>4279</td>\n",
       "      <td>10000</td>\n",
       "    </tr>\n",
       "    <tr>\n",
       "      <th>1952</th>\n",
       "      <td>16966</td>\n",
       "      <td>10000</td>\n",
       "    </tr>\n",
       "    <tr>\n",
       "      <th>1953</th>\n",
       "      <td>16969</td>\n",
       "      <td>10000</td>\n",
       "    </tr>\n",
       "    <tr>\n",
       "      <th>733</th>\n",
       "      <td>4228</td>\n",
       "      <td>10000</td>\n",
       "    </tr>\n",
       "    <tr>\n",
       "      <th>1473</th>\n",
       "      <td>13512</td>\n",
       "      <td>10000</td>\n",
       "    </tr>\n",
       "    <tr>\n",
       "      <th>2029</th>\n",
       "      <td>17139</td>\n",
       "      <td>10000</td>\n",
       "    </tr>\n",
       "    <tr>\n",
       "      <th>1962</th>\n",
       "      <td>17005</td>\n",
       "      <td>10000</td>\n",
       "    </tr>\n",
       "    <tr>\n",
       "      <th>1963</th>\n",
       "      <td>17007</td>\n",
       "      <td>10000</td>\n",
       "    </tr>\n",
       "    <tr>\n",
       "      <th>728</th>\n",
       "      <td>4184</td>\n",
       "      <td>10000</td>\n",
       "    </tr>\n",
       "    <tr>\n",
       "      <th>727</th>\n",
       "      <td>4183</td>\n",
       "      <td>10000</td>\n",
       "    </tr>\n",
       "    <tr>\n",
       "      <th>1476</th>\n",
       "      <td>13526</td>\n",
       "      <td>10000</td>\n",
       "    </tr>\n",
       "    <tr>\n",
       "      <th>1969</th>\n",
       "      <td>17023</td>\n",
       "      <td>10000</td>\n",
       "    </tr>\n",
       "    <tr>\n",
       "      <th>1958</th>\n",
       "      <td>16977</td>\n",
       "      <td>10000</td>\n",
       "    </tr>\n",
       "    <tr>\n",
       "      <th>353</th>\n",
       "      <td>1526</td>\n",
       "      <td>15000</td>\n",
       "    </tr>\n",
       "    <tr>\n",
       "      <th>306</th>\n",
       "      <td>1353</td>\n",
       "      <td>17000</td>\n",
       "    </tr>\n",
       "    <tr>\n",
       "      <th>305</th>\n",
       "      <td>1352</td>\n",
       "      <td>25000</td>\n",
       "    </tr>\n",
       "  </tbody>\n",
       "</table>\n",
       "<p>2414 rows × 2 columns</p>\n",
       "</div>"
      ],
      "text/plain": [
       "      loan_id   size\n",
       "260      1194    100\n",
       "1601    14908    200\n",
       "355      1554    200\n",
       "874      5296    300\n",
       "1615    15127    300\n",
       "2414    18276    300\n",
       "872      5292    400\n",
       "1501    13796    450\n",
       "1609    15005    500\n",
       "1605    14943    500\n",
       "1602    14909    500\n",
       "1737    16197    500\n",
       "1566    14481    500\n",
       "1496    13729    500\n",
       "1453    13399    500\n",
       "1416    12992    500\n",
       "936      5906    500\n",
       "933      5886    500\n",
       "925      5746    500\n",
       "1680    15621    500\n",
       "845      5184    500\n",
       "826      5086    500\n",
       "202       852    500\n",
       "205       858    500\n",
       "411      1946    500\n",
       "457      2238    500\n",
       "462      2258    500\n",
       "470      2310    500\n",
       "1844    16722    500\n",
       "577      3078    500\n",
       "...       ...    ...\n",
       "1989    17069  10000\n",
       "1987    17065  10000\n",
       "1986    17064  10000\n",
       "1983    17060  10000\n",
       "244      1152  10000\n",
       "1080     8494  10000\n",
       "147       717  10000\n",
       "1470    13503  10000\n",
       "1472    13507  10000\n",
       "1975    17045  10000\n",
       "1973    17043  10000\n",
       "720      4127  10000\n",
       "1957    16976  10000\n",
       "1949    16958  10000\n",
       "737      4279  10000\n",
       "1952    16966  10000\n",
       "1953    16969  10000\n",
       "733      4228  10000\n",
       "1473    13512  10000\n",
       "2029    17139  10000\n",
       "1962    17005  10000\n",
       "1963    17007  10000\n",
       "728      4184  10000\n",
       "727      4183  10000\n",
       "1476    13526  10000\n",
       "1969    17023  10000\n",
       "1958    16977  10000\n",
       "353      1526  15000\n",
       "306      1353  17000\n",
       "305      1352  25000\n",
       "\n",
       "[2414 rows x 2 columns]"
      ]
     },
     "execution_count": 351,
     "metadata": {},
     "output_type": "execute_result"
    }
   ],
   "source": [
    "kiva.drop([1787], inplace=True)\n",
    "kiva[['loan_id', 'size']].sort_index(by='size')\n"
   ]
  },
  {
   "cell_type": "code",
   "execution_count": 352,
   "metadata": {
    "collapsed": false,
    "scrolled": true
   },
   "outputs": [
    {
     "data": {
      "image/png": "[encoded data removed]",
      "text/plain": [
       "<matplotlib.figure.Figure at 0x128ce8b90>"
      ]
     },
     "metadata": {},
     "output_type": "display_data"
    },
    {
     "data": {
      "image/png": "[encoded data removed]",
      "text/plain": [
       "<matplotlib.figure.Figure at 0x100629310>"
      ]
     },
     "metadata": {},
     "output_type": "display_data"
    },
    {
     "data": {
      "image/png": "[encoded data removed]",
      "text/plain": [
       "<matplotlib.figure.Figure at 0x128ce8c10>"
      ]
     },
     "metadata": {},
     "output_type": "display_data"
    },
    {
     "data": {
      "image/png": "[encoded data removed]",
      "text/plain": [
       "<matplotlib.figure.Figure at 0x134580fd0>"
      ]
     },
     "metadata": {},
     "output_type": "display_data"
    }
   ],
   "source": [
    "#bucket 1 is the fastest fundraising loan, bucket 7 did not fundraise\n",
    "kiva.boxplot(column='size', by='Bucket')\n",
    "kiva.boxplot(column='invited_lenders', by='Bucket')\n",
    "kiva.boxplot(column='conversations', by='Bucket')\n",
    "kiva.boxplot(column='term', by='Bucket')\n",
    "\n",
    "kiva[\"BD_length\"] = kiva.business_description.apply(lambda x: len(x))\n",
    "kiva[\"LP_length\"] = kiva.loan_purpose.apply(lambda x: len(x))\n",
    "kiva[\"PS_length\"] = kiva.personal_story.apply(lambda x: len(x))\n",
    "\n",
    "#kiva.boxplot(column='PS_length', by='Bucket')\n",
    "#kiva.boxplot(column='LP_length', by='Bucket')\n",
    "#kiva.boxplot(column='BD_length', by='Bucket') not useful\n"
   ]
  },
  {
   "cell_type": "code",
   "execution_count": 353,
   "metadata": {
    "collapsed": false
   },
   "outputs": [],
   "source": [
    "print kiva.groupby('trustee_new').status_new.mean()\n",
    "#kiva['trustee_new'] = kiva.trustee_new.map({'no':0, 'yes':1})\n",
    "#kiva.social_media_new.value_counts()\n",
    "#whether a loan has a trustee or not is useful\n",
    "# print kiva.groupby('gender').status_new.mean() gender is not useful"
   ]
  },
  {
   "cell_type": "code",
   "execution_count": 354,
   "metadata": {
    "collapsed": false,
    "scrolled": true
   },
   "outputs": [
    {
     "data": {
      "image/png": "[encoded data removed]",
      "text/plain": [
       "<matplotlib.figure.Figure at 0x1275b1850>"
      ]
     },
     "metadata": {},
     "output_type": "display_data"
    }
   ],
   "source": [
    "print kiva.groupby('industry').Bucket.mean().order(ascending=False)\n",
    "print kiva.industry.value_counts()\n",
    "kiva.groupby('industry').Bucket.mean().order(ascending=True).head(15).plot(kind='bar')\n",
    "\n",
    "industry_dummies = pd.get_dummies(kiva.industry, prefix='pindustry')\n",
    "industry_dummies.drop(industry_dummies.columns[0], axis=1, inplace=True)\n",
    "\n",
    "# this is useful and shows that agriculture loans succeed\n",
    "#kiva.groupby('gender').Bucket.mean().order(ascending=True).plot(kind='bar')\n",
    "\n"
   ]
  },
  {
   "cell_type": "code",
   "execution_count": 355,
   "metadata": {
    "collapsed": false,
    "scrolled": true
   },
   "outputs": [],
   "source": [
    "#why does this not work?\n",
    "#kiva['city'].apply(lambda x: x.replace(',,', ','))\n",
    "#kiva.city"
   ]
  },
  {
   "cell_type": "code",
   "execution_count": 356,
   "metadata": {
    "collapsed": false,
    "scrolled": true
   },
   "outputs": [
    {
     "data": {
      "image/png": "[encoded data removed]",
      "text/plain": [
       "<matplotlib.figure.Figure at 0x1256764d0>"
      ]
     },
     "metadata": {},
     "output_type": "display_data"
    }
   ],
   "source": [
    "kiva.groupby('years_experience').Bucket.mean().plot(kind='bar')\n",
    "experience_dummies = pd.get_dummies(kiva.years_experience, prefix='pex')\n",
    "experience_dummies.drop(experience_dummies.columns[0], axis=1, inplace=True)\n",
    "print kiva.years_experience.value_counts()"
   ]
  },
  {
   "cell_type": "code",
   "execution_count": 357,
   "metadata": {
    "collapsed": false,
    "scrolled": true
   },
   "outputs": [
    {
     "data": {
      "image/png": "[encoded data removed]",
      "text/plain": [
       "<matplotlib.figure.Figure at 0x125676790>"
      ]
     },
     "metadata": {},
     "output_type": "display_data"
    }
   ],
   "source": [
    "kiva.groupby('borrower_internet_frequency').Bucket.mean().plot(kind='bar') \n",
    "borrower_internet_dummies = pd.get_dummies(kiva.borrower_internet_frequency, prefix='pinternet')\n",
    "borrower_internet_dummies.drop(borrower_internet_dummies.columns[0], axis=1, inplace=True)\n",
    "#this shows that the more you frequent the website the more likely you will fundraise\n",
    "#kiva.groupby('borrower_internet_frequency').status_new.mean().plot(kind='bar')\n",
    "\n",
    "\n",
    "\n"
   ]
  },
  {
   "cell_type": "code",
   "execution_count": 358,
   "metadata": {
    "collapsed": false
   },
   "outputs": [
    {
     "data": {
      "image/png": "[encoded data removed]",
      "text/plain": [
       "<matplotlib.figure.Figure at 0x12e420d10>"
      ]
     },
     "metadata": {},
     "output_type": "display_data"
    }
   ],
   "source": [
    "kiva.groupby('borrower_education').Bucket.mean().plot(kind='bar') \n",
    "borrower_education_dummies = pd.get_dummies(kiva.borrower_education, prefix='peducation')\n",
    "borrower_education_dummies.drop(borrower_education_dummies.columns[0], axis=1, inplace=True)"
   ]
  },
  {
   "cell_type": "code",
   "execution_count": 360,
   "metadata": {
    "collapsed": false
   },
   "outputs": [
    {
     "ename": "KeyError",
     "evalue": "'borrower_primary_language_binary'",
     "output_type": "error",
     "traceback": [
      "\u001b[0;31m---------------------------------------------------------------------------\u001b[0m",
      "\u001b[0;31mKeyError\u001b[0m                                  Traceback (most recent call last)",
      "\u001b[0;32m<ipython-input-360-ce955b1d190d>\u001b[0m in \u001b[0;36m<module>\u001b[0;34m()\u001b[0m\n\u001b[0;32m----> 1\u001b[0;31m \u001b[0mkiva\u001b[0m\u001b[0;34m.\u001b[0m\u001b[0mgroupby\u001b[0m\u001b[0;34m(\u001b[0m\u001b[0;34m'borrower_primary_language_binary'\u001b[0m\u001b[0;34m)\u001b[0m\u001b[0;34m.\u001b[0m\u001b[0mBucket\u001b[0m\u001b[0;34m.\u001b[0m\u001b[0mmean\u001b[0m\u001b[0;34m(\u001b[0m\u001b[0;34m)\u001b[0m\u001b[0;34m.\u001b[0m\u001b[0morder\u001b[0m\u001b[0;34m(\u001b[0m\u001b[0mascending\u001b[0m\u001b[0;34m=\u001b[0m\u001b[0mTrue\u001b[0m\u001b[0;34m)\u001b[0m\u001b[0;34m.\u001b[0m\u001b[0mplot\u001b[0m\u001b[0;34m(\u001b[0m\u001b[0mkind\u001b[0m\u001b[0;34m=\u001b[0m\u001b[0;34m'bar'\u001b[0m\u001b[0;34m)\u001b[0m\u001b[0;34m\u001b[0m\u001b[0m\n\u001b[0m\u001b[1;32m      2\u001b[0m \u001b[0mkiva\u001b[0m\u001b[0;34m[\u001b[0m\u001b[0;34m'borrower_primary_language_binary'\u001b[0m\u001b[0;34m]\u001b[0m \u001b[0;34m=\u001b[0m \u001b[0mkiva\u001b[0m\u001b[0;34m.\u001b[0m\u001b[0mborrower_primary_language\u001b[0m\u001b[0;34m.\u001b[0m\u001b[0mmap\u001b[0m\u001b[0;34m(\u001b[0m\u001b[0;34m{\u001b[0m\u001b[0;34m'English'\u001b[0m\u001b[0;34m:\u001b[0m\u001b[0;36m1\u001b[0m\u001b[0;34m,\u001b[0m \u001b[0;34m'Other'\u001b[0m\u001b[0;34m:\u001b[0m\u001b[0;36m0\u001b[0m\u001b[0;34m,\u001b[0m \u001b[0;34m'Spanish'\u001b[0m\u001b[0;34m:\u001b[0m\u001b[0;36m0\u001b[0m\u001b[0;34m,\u001b[0m \u001b[0;34m'Kikuyu'\u001b[0m\u001b[0;34m:\u001b[0m\u001b[0;36m0\u001b[0m\u001b[0;34m,\u001b[0m \u001b[0;34m'Wolof, French and English'\u001b[0m\u001b[0;34m:\u001b[0m\u001b[0;36m0\u001b[0m\u001b[0;34m,\u001b[0m \u001b[0;34m'Russian'\u001b[0m\u001b[0;34m:\u001b[0m\u001b[0;36m0\u001b[0m\u001b[0;34m}\u001b[0m\u001b[0;34m)\u001b[0m\u001b[0;34m\u001b[0m\u001b[0m\n\u001b[1;32m      3\u001b[0m \u001b[0;32mprint\u001b[0m \u001b[0mkiva\u001b[0m\u001b[0;34m.\u001b[0m\u001b[0mborrower_primary_language_binary\u001b[0m\u001b[0;34m.\u001b[0m\u001b[0mvalue_counts\u001b[0m\u001b[0;34m(\u001b[0m\u001b[0;34m)\u001b[0m\u001b[0;34m\u001b[0m\u001b[0m\n\u001b[1;32m      4\u001b[0m \u001b[0;31m# this shows that english speakers (1) fundraise faster\u001b[0m\u001b[0;34m\u001b[0m\u001b[0;34m\u001b[0m\u001b[0m\n\u001b[1;32m      5\u001b[0m \u001b[0;34m\u001b[0m\u001b[0m\n",
      "\u001b[0;32m//anaconda/lib/python2.7/site-packages/pandas/core/generic.pyc\u001b[0m in \u001b[0;36mgroupby\u001b[0;34m(self, by, axis, level, as_index, sort, group_keys, squeeze)\u001b[0m\n\u001b[1;32m   3746\u001b[0m         \u001b[0maxis\u001b[0m \u001b[0;34m=\u001b[0m \u001b[0mself\u001b[0m\u001b[0;34m.\u001b[0m\u001b[0m_get_axis_number\u001b[0m\u001b[0;34m(\u001b[0m\u001b[0maxis\u001b[0m\u001b[0;34m)\u001b[0m\u001b[0;34m\u001b[0m\u001b[0m\n\u001b[1;32m   3747\u001b[0m         return groupby(self, by=by, axis=axis, level=level, as_index=as_index,\n\u001b[0;32m-> 3748\u001b[0;31m                        sort=sort, group_keys=group_keys, squeeze=squeeze)\n\u001b[0m\u001b[1;32m   3749\u001b[0m \u001b[0;34m\u001b[0m\u001b[0m\n\u001b[1;32m   3750\u001b[0m     \u001b[0;32mdef\u001b[0m \u001b[0masfreq\u001b[0m\u001b[0;34m(\u001b[0m\u001b[0mself\u001b[0m\u001b[0;34m,\u001b[0m \u001b[0mfreq\u001b[0m\u001b[0;34m,\u001b[0m \u001b[0mmethod\u001b[0m\u001b[0;34m=\u001b[0m\u001b[0mNone\u001b[0m\u001b[0;34m,\u001b[0m \u001b[0mhow\u001b[0m\u001b[0;34m=\u001b[0m\u001b[0mNone\u001b[0m\u001b[0;34m,\u001b[0m \u001b[0mnormalize\u001b[0m\u001b[0;34m=\u001b[0m\u001b[0mFalse\u001b[0m\u001b[0;34m)\u001b[0m\u001b[0;34m:\u001b[0m\u001b[0;34m\u001b[0m\u001b[0m\n",
      "\u001b[0;32m//anaconda/lib/python2.7/site-packages/pandas/core/groupby.pyc\u001b[0m in \u001b[0;36mgroupby\u001b[0;34m(obj, by, **kwds)\u001b[0m\n\u001b[1;32m   1426\u001b[0m         \u001b[0;32mraise\u001b[0m \u001b[0mTypeError\u001b[0m\u001b[0;34m(\u001b[0m\u001b[0;34m'invalid type: %s'\u001b[0m \u001b[0;34m%\u001b[0m \u001b[0mtype\u001b[0m\u001b[0;34m(\u001b[0m\u001b[0mobj\u001b[0m\u001b[0;34m)\u001b[0m\u001b[0;34m)\u001b[0m\u001b[0;34m\u001b[0m\u001b[0m\n\u001b[1;32m   1427\u001b[0m \u001b[0;34m\u001b[0m\u001b[0m\n\u001b[0;32m-> 1428\u001b[0;31m     \u001b[0;32mreturn\u001b[0m \u001b[0mklass\u001b[0m\u001b[0;34m(\u001b[0m\u001b[0mobj\u001b[0m\u001b[0;34m,\u001b[0m \u001b[0mby\u001b[0m\u001b[0;34m,\u001b[0m \u001b[0;34m**\u001b[0m\u001b[0mkwds\u001b[0m\u001b[0;34m)\u001b[0m\u001b[0;34m\u001b[0m\u001b[0m\n\u001b[0m\u001b[1;32m   1429\u001b[0m \u001b[0;34m\u001b[0m\u001b[0m\n\u001b[1;32m   1430\u001b[0m \u001b[0;34m\u001b[0m\u001b[0m\n",
      "\u001b[0;32m//anaconda/lib/python2.7/site-packages/pandas/core/groupby.pyc\u001b[0m in \u001b[0;36m__init__\u001b[0;34m(self, obj, keys, axis, level, grouper, exclusions, selection, as_index, sort, group_keys, squeeze)\u001b[0m\n\u001b[1;32m    343\u001b[0m         \u001b[0;32mif\u001b[0m \u001b[0mgrouper\u001b[0m \u001b[0;32mis\u001b[0m \u001b[0mNone\u001b[0m\u001b[0;34m:\u001b[0m\u001b[0;34m\u001b[0m\u001b[0m\n\u001b[1;32m    344\u001b[0m             grouper, exclusions, obj = _get_grouper(obj, keys, axis=axis,\n\u001b[0;32m--> 345\u001b[0;31m                                                     level=level, sort=sort)\n\u001b[0m\u001b[1;32m    346\u001b[0m \u001b[0;34m\u001b[0m\u001b[0m\n\u001b[1;32m    347\u001b[0m         \u001b[0mself\u001b[0m\u001b[0;34m.\u001b[0m\u001b[0mobj\u001b[0m \u001b[0;34m=\u001b[0m \u001b[0mobj\u001b[0m\u001b[0;34m\u001b[0m\u001b[0m\n",
      "\u001b[0;32m//anaconda/lib/python2.7/site-packages/pandas/core/groupby.pyc\u001b[0m in \u001b[0;36m_get_grouper\u001b[0;34m(obj, key, axis, level, sort)\u001b[0m\n\u001b[1;32m   2396\u001b[0m \u001b[0;34m\u001b[0m\u001b[0m\n\u001b[1;32m   2397\u001b[0m         \u001b[0;32melif\u001b[0m \u001b[0mis_in_axis\u001b[0m\u001b[0;34m(\u001b[0m\u001b[0mgpr\u001b[0m\u001b[0;34m)\u001b[0m\u001b[0;34m:\u001b[0m  \u001b[0;31m# df.groupby('name')\u001b[0m\u001b[0;34m\u001b[0m\u001b[0m\n\u001b[0;32m-> 2398\u001b[0;31m             \u001b[0min_axis\u001b[0m\u001b[0;34m,\u001b[0m \u001b[0mname\u001b[0m\u001b[0;34m,\u001b[0m \u001b[0mgpr\u001b[0m \u001b[0;34m=\u001b[0m \u001b[0mTrue\u001b[0m\u001b[0;34m,\u001b[0m \u001b[0mgpr\u001b[0m\u001b[0;34m,\u001b[0m \u001b[0mobj\u001b[0m\u001b[0;34m[\u001b[0m\u001b[0mgpr\u001b[0m\u001b[0;34m]\u001b[0m\u001b[0;34m\u001b[0m\u001b[0m\n\u001b[0m\u001b[1;32m   2399\u001b[0m             \u001b[0mexclusions\u001b[0m\u001b[0;34m.\u001b[0m\u001b[0mappend\u001b[0m\u001b[0;34m(\u001b[0m\u001b[0mname\u001b[0m\u001b[0;34m)\u001b[0m\u001b[0;34m\u001b[0m\u001b[0m\n\u001b[1;32m   2400\u001b[0m \u001b[0;34m\u001b[0m\u001b[0m\n",
      "\u001b[0;32m//anaconda/lib/python2.7/site-packages/pandas/core/frame.pyc\u001b[0m in \u001b[0;36m__getitem__\u001b[0;34m(self, key)\u001b[0m\n\u001b[1;32m   1990\u001b[0m             \u001b[0;32mreturn\u001b[0m \u001b[0mself\u001b[0m\u001b[0;34m.\u001b[0m\u001b[0m_getitem_multilevel\u001b[0m\u001b[0;34m(\u001b[0m\u001b[0mkey\u001b[0m\u001b[0;34m)\u001b[0m\u001b[0;34m\u001b[0m\u001b[0m\n\u001b[1;32m   1991\u001b[0m         \u001b[0;32melse\u001b[0m\u001b[0;34m:\u001b[0m\u001b[0;34m\u001b[0m\u001b[0m\n\u001b[0;32m-> 1992\u001b[0;31m             \u001b[0;32mreturn\u001b[0m \u001b[0mself\u001b[0m\u001b[0;34m.\u001b[0m\u001b[0m_getitem_column\u001b[0m\u001b[0;34m(\u001b[0m\u001b[0mkey\u001b[0m\u001b[0;34m)\u001b[0m\u001b[0;34m\u001b[0m\u001b[0m\n\u001b[0m\u001b[1;32m   1993\u001b[0m \u001b[0;34m\u001b[0m\u001b[0m\n\u001b[1;32m   1994\u001b[0m     \u001b[0;32mdef\u001b[0m \u001b[0m_getitem_column\u001b[0m\u001b[0;34m(\u001b[0m\u001b[0mself\u001b[0m\u001b[0;34m,\u001b[0m \u001b[0mkey\u001b[0m\u001b[0;34m)\u001b[0m\u001b[0;34m:\u001b[0m\u001b[0;34m\u001b[0m\u001b[0m\n",
      "\u001b[0;32m//anaconda/lib/python2.7/site-packages/pandas/core/frame.pyc\u001b[0m in \u001b[0;36m_getitem_column\u001b[0;34m(self, key)\u001b[0m\n\u001b[1;32m   1997\u001b[0m         \u001b[0;31m# get column\u001b[0m\u001b[0;34m\u001b[0m\u001b[0;34m\u001b[0m\u001b[0m\n\u001b[1;32m   1998\u001b[0m         \u001b[0;32mif\u001b[0m \u001b[0mself\u001b[0m\u001b[0;34m.\u001b[0m\u001b[0mcolumns\u001b[0m\u001b[0;34m.\u001b[0m\u001b[0mis_unique\u001b[0m\u001b[0;34m:\u001b[0m\u001b[0;34m\u001b[0m\u001b[0m\n\u001b[0;32m-> 1999\u001b[0;31m             \u001b[0;32mreturn\u001b[0m \u001b[0mself\u001b[0m\u001b[0;34m.\u001b[0m\u001b[0m_get_item_cache\u001b[0m\u001b[0;34m(\u001b[0m\u001b[0mkey\u001b[0m\u001b[0;34m)\u001b[0m\u001b[0;34m\u001b[0m\u001b[0m\n\u001b[0m\u001b[1;32m   2000\u001b[0m \u001b[0;34m\u001b[0m\u001b[0m\n\u001b[1;32m   2001\u001b[0m         \u001b[0;31m# duplicate columns & possible reduce dimensionality\u001b[0m\u001b[0;34m\u001b[0m\u001b[0;34m\u001b[0m\u001b[0m\n",
      "\u001b[0;32m//anaconda/lib/python2.7/site-packages/pandas/core/generic.pyc\u001b[0m in \u001b[0;36m_get_item_cache\u001b[0;34m(self, item)\u001b[0m\n\u001b[1;32m   1343\u001b[0m         \u001b[0mres\u001b[0m \u001b[0;34m=\u001b[0m \u001b[0mcache\u001b[0m\u001b[0;34m.\u001b[0m\u001b[0mget\u001b[0m\u001b[0;34m(\u001b[0m\u001b[0mitem\u001b[0m\u001b[0;34m)\u001b[0m\u001b[0;34m\u001b[0m\u001b[0m\n\u001b[1;32m   1344\u001b[0m         \u001b[0;32mif\u001b[0m \u001b[0mres\u001b[0m \u001b[0;32mis\u001b[0m \u001b[0mNone\u001b[0m\u001b[0;34m:\u001b[0m\u001b[0;34m\u001b[0m\u001b[0m\n\u001b[0;32m-> 1345\u001b[0;31m             \u001b[0mvalues\u001b[0m \u001b[0;34m=\u001b[0m \u001b[0mself\u001b[0m\u001b[0;34m.\u001b[0m\u001b[0m_data\u001b[0m\u001b[0;34m.\u001b[0m\u001b[0mget\u001b[0m\u001b[0;34m(\u001b[0m\u001b[0mitem\u001b[0m\u001b[0;34m)\u001b[0m\u001b[0;34m\u001b[0m\u001b[0m\n\u001b[0m\u001b[1;32m   1346\u001b[0m             \u001b[0mres\u001b[0m \u001b[0;34m=\u001b[0m \u001b[0mself\u001b[0m\u001b[0;34m.\u001b[0m\u001b[0m_box_item_values\u001b[0m\u001b[0;34m(\u001b[0m\u001b[0mitem\u001b[0m\u001b[0;34m,\u001b[0m \u001b[0mvalues\u001b[0m\u001b[0;34m)\u001b[0m\u001b[0;34m\u001b[0m\u001b[0m\n\u001b[1;32m   1347\u001b[0m             \u001b[0mcache\u001b[0m\u001b[0;34m[\u001b[0m\u001b[0mitem\u001b[0m\u001b[0;34m]\u001b[0m \u001b[0;34m=\u001b[0m \u001b[0mres\u001b[0m\u001b[0;34m\u001b[0m\u001b[0m\n",
      "\u001b[0;32m//anaconda/lib/python2.7/site-packages/pandas/core/internals.pyc\u001b[0m in \u001b[0;36mget\u001b[0;34m(self, item, fastpath)\u001b[0m\n\u001b[1;32m   3223\u001b[0m \u001b[0;34m\u001b[0m\u001b[0m\n\u001b[1;32m   3224\u001b[0m             \u001b[0;32mif\u001b[0m \u001b[0;32mnot\u001b[0m \u001b[0misnull\u001b[0m\u001b[0;34m(\u001b[0m\u001b[0mitem\u001b[0m\u001b[0;34m)\u001b[0m\u001b[0;34m:\u001b[0m\u001b[0;34m\u001b[0m\u001b[0m\n\u001b[0;32m-> 3225\u001b[0;31m                 \u001b[0mloc\u001b[0m \u001b[0;34m=\u001b[0m \u001b[0mself\u001b[0m\u001b[0;34m.\u001b[0m\u001b[0mitems\u001b[0m\u001b[0;34m.\u001b[0m\u001b[0mget_loc\u001b[0m\u001b[0;34m(\u001b[0m\u001b[0mitem\u001b[0m\u001b[0;34m)\u001b[0m\u001b[0;34m\u001b[0m\u001b[0m\n\u001b[0m\u001b[1;32m   3226\u001b[0m             \u001b[0;32melse\u001b[0m\u001b[0;34m:\u001b[0m\u001b[0;34m\u001b[0m\u001b[0m\n\u001b[1;32m   3227\u001b[0m                 \u001b[0mindexer\u001b[0m \u001b[0;34m=\u001b[0m \u001b[0mnp\u001b[0m\u001b[0;34m.\u001b[0m\u001b[0marange\u001b[0m\u001b[0;34m(\u001b[0m\u001b[0mlen\u001b[0m\u001b[0;34m(\u001b[0m\u001b[0mself\u001b[0m\u001b[0;34m.\u001b[0m\u001b[0mitems\u001b[0m\u001b[0;34m)\u001b[0m\u001b[0;34m)\u001b[0m\u001b[0;34m[\u001b[0m\u001b[0misnull\u001b[0m\u001b[0;34m(\u001b[0m\u001b[0mself\u001b[0m\u001b[0;34m.\u001b[0m\u001b[0mitems\u001b[0m\u001b[0;34m)\u001b[0m\u001b[0;34m]\u001b[0m\u001b[0;34m\u001b[0m\u001b[0m\n",
      "\u001b[0;32m//anaconda/lib/python2.7/site-packages/pandas/indexes/base.pyc\u001b[0m in \u001b[0;36mget_loc\u001b[0;34m(self, key, method, tolerance)\u001b[0m\n\u001b[1;32m   1876\u001b[0m                 \u001b[0;32mreturn\u001b[0m \u001b[0mself\u001b[0m\u001b[0;34m.\u001b[0m\u001b[0m_engine\u001b[0m\u001b[0;34m.\u001b[0m\u001b[0mget_loc\u001b[0m\u001b[0;34m(\u001b[0m\u001b[0mkey\u001b[0m\u001b[0;34m)\u001b[0m\u001b[0;34m\u001b[0m\u001b[0m\n\u001b[1;32m   1877\u001b[0m             \u001b[0;32mexcept\u001b[0m \u001b[0mKeyError\u001b[0m\u001b[0;34m:\u001b[0m\u001b[0;34m\u001b[0m\u001b[0m\n\u001b[0;32m-> 1878\u001b[0;31m                 \u001b[0;32mreturn\u001b[0m \u001b[0mself\u001b[0m\u001b[0;34m.\u001b[0m\u001b[0m_engine\u001b[0m\u001b[0;34m.\u001b[0m\u001b[0mget_loc\u001b[0m\u001b[0;34m(\u001b[0m\u001b[0mself\u001b[0m\u001b[0;34m.\u001b[0m\u001b[0m_maybe_cast_indexer\u001b[0m\u001b[0;34m(\u001b[0m\u001b[0mkey\u001b[0m\u001b[0;34m)\u001b[0m\u001b[0;34m)\u001b[0m\u001b[0;34m\u001b[0m\u001b[0m\n\u001b[0m\u001b[1;32m   1879\u001b[0m \u001b[0;34m\u001b[0m\u001b[0m\n\u001b[1;32m   1880\u001b[0m         \u001b[0mindexer\u001b[0m \u001b[0;34m=\u001b[0m \u001b[0mself\u001b[0m\u001b[0;34m.\u001b[0m\u001b[0mget_indexer\u001b[0m\u001b[0;34m(\u001b[0m\u001b[0;34m[\u001b[0m\u001b[0mkey\u001b[0m\u001b[0;34m]\u001b[0m\u001b[0;34m,\u001b[0m \u001b[0mmethod\u001b[0m\u001b[0;34m=\u001b[0m\u001b[0mmethod\u001b[0m\u001b[0;34m,\u001b[0m \u001b[0mtolerance\u001b[0m\u001b[0;34m=\u001b[0m\u001b[0mtolerance\u001b[0m\u001b[0;34m)\u001b[0m\u001b[0;34m\u001b[0m\u001b[0m\n",
      "\u001b[0;32mpandas/index.pyx\u001b[0m in \u001b[0;36mpandas.index.IndexEngine.get_loc (pandas/index.c:4027)\u001b[0;34m()\u001b[0m\n",
      "\u001b[0;32mpandas/index.pyx\u001b[0m in \u001b[0;36mpandas.index.IndexEngine.get_loc (pandas/index.c:3891)\u001b[0;34m()\u001b[0m\n",
      "\u001b[0;32mpandas/hashtable.pyx\u001b[0m in \u001b[0;36mpandas.hashtable.PyObjectHashTable.get_item (pandas/hashtable.c:12408)\u001b[0;34m()\u001b[0m\n",
      "\u001b[0;32mpandas/hashtable.pyx\u001b[0m in \u001b[0;36mpandas.hashtable.PyObjectHashTable.get_item (pandas/hashtable.c:12359)\u001b[0;34m()\u001b[0m\n",
      "\u001b[0;31mKeyError\u001b[0m: 'borrower_primary_language_binary'"
     ]
    }
   ],
   "source": [
    "kiva.groupby('borrower_primary_language_binary').Bucket.mean().order(ascending=True).plot(kind='bar') \n",
    "kiva['borrower_primary_language_binary'] = kiva.borrower_primary_language.map({'English':1, 'Other':0, 'Spanish':0, 'Kikuyu':0, 'Wolof, French and English':0, 'Russian':0})\n",
    "print kiva.borrower_primary_language_binary.value_counts()\n",
    "# this shows that english speakers (1) fundraise faster\n",
    "\n",
    "kiva.groupby('borrower_primary_language_binary').Bucket.mean().order(ascending=True).plot(kind='bar') \n",
    "\n"
   ]
  },
  {
   "cell_type": "code",
   "execution_count": 175,
   "metadata": {
    "collapsed": false
   },
   "outputs": [
    {
     "data": {
      "image/png": "[encoded data removed]",
      "text/plain": [
       "<matplotlib.figure.Figure at 0x12731d510>"
      ]
     },
     "metadata": {},
     "output_type": "display_data"
    }
   ],
   "source": [
    "kiva.groupby('borrower_ethnicity').Bucket.mean().plot(kind='bar') \n",
    "ethnicity_dummies = pd.get_dummies(kiva.borrower_ethnicity, prefix='ethnicity')\n",
    "ethnicity_dummies.drop(ethnicity_dummies.columns[0], axis=1, inplace=True)"
   ]
  },
  {
   "cell_type": "code",
   "execution_count": 14,
   "metadata": {
    "collapsed": false,
    "scrolled": true
   },
   "outputs": [
    {
     "name": "stderr",
     "output_type": "stream",
     "text": [
      "/anaconda/lib/python2.7/site-packages/ipykernel/__main__.py:1: FutureWarning: order is deprecated, use sort_values(...)\n",
      "  if __name__ == '__main__':\n"
     ]
    },
    {
     "data": {
      "text/plain": [
       "1 year - 3 years     730\n",
       "6 months - 1 year    496\n",
       "More than 5 years    413\n",
       "New Business         359\n",
       "3 years - 5 years    306\n",
       "<6 months            110\n",
       "Name: years_experience, dtype: int64"
      ]
     },
     "execution_count": 14,
     "metadata": {},
     "output_type": "execute_result"
    },
    {
     "data": {
      "image/png": "[encoded data removed]",
      "text/plain": [
       "<matplotlib.figure.Figure at 0x1184d97d0>"
      ]
     },
     "metadata": {},
     "output_type": "display_data"
    }
   ],
   "source": [
    "kiva.groupby('years_experience').Bucket.mean().order(ascending=True).head(15).plot(kind='bar')\n",
    "\n",
    "kiva.years_experience.value_counts()"
   ]
  },
  {
   "cell_type": "code",
   "execution_count": 138,
   "metadata": {
    "collapsed": false
   },
   "outputs": [
    {
     "data": {
      "text/plain": [
       "<matplotlib.axes._subplots.AxesSubplot at 0x122249510>"
      ]
     },
     "execution_count": 138,
     "metadata": {},
     "output_type": "execute_result"
    },
    {
     "data": {
      "image/png": "[encoded data removed]",
      "text/plain": [
       "<matplotlib.figure.Figure at 0x122749ed0>"
      ]
     },
     "metadata": {},
     "output_type": "display_data"
    }
   ],
   "source": [
    "kiva.boxplot(column='conversations', by='Bucket')"
   ]
  },
  {
   "cell_type": "code",
   "execution_count": 177,
   "metadata": {
    "collapsed": false
   },
   "outputs": [],
   "source": [
    "kiva = pd.concat([kiva, industry_dummies, experience_dummies, borrower_internet_dummies, borrower_education_dummies, ethnicity_dummies], axis=1)"
   ]
  },
  {
   "cell_type": "code",
   "execution_count": 190,
   "metadata": {
    "collapsed": false
   },
   "outputs": [
    {
     "data": {
      "text/plain": [
       "Index([u'Unnamed: 0', u'business_description', u'business_name', u'city',\n",
       "       u'conversations', u'disbursed', u'industry', u'invited_lenders',\n",
       "       u'listed', u'loan_id', u'loan_purpose', u'personal_story', u'size',\n",
       "       u'status', u'term', u'total_lenders', u'trustee', u'years_experience',\n",
       "       u'days_fundraising', u'Bucket', u'borrower_ethnicity', u'gender',\n",
       "       u'borrower_education', u'borrower_internet_frequency',\n",
       "       u'borrower_primary_language', u'business_url', u'business_twitter_url',\n",
       "       u'business_facebook_url', u'business_yelp_url', u'social_media',\n",
       "       u'state', u'status_new', u'trustee_new', u'BD_length', u'LP_length',\n",
       "       u'PS_length', u'social_media_new', u'borrower_primary_language_binary',\n",
       "       u'borrower_education_binary', u'pindustry_Arts / Crafts',\n",
       "       u'pindustry_Beauty / Cosmetics', u'pindustry_Cleaning Services',\n",
       "       u'pindustry_Clothing / Jewelry / Accessories',\n",
       "       u'pindustry_Communications / Media',\n",
       "       u'pindustry_Construction / Contractor',\n",
       "       u'pindustry_Day care / Adult care', u'pindustry_Education',\n",
       "       u'pindustry_Energy', u'pindustry_Entertainment', u'pindustry_Florist',\n",
       "       u'pindustry_Food production', u'pindustry_Food stall / Grocer',\n",
       "       u'pindustry_Furniture / Household items',\n",
       "       u'pindustry_Lawn / Landscaping service', u'pindustry_Non-Profit',\n",
       "       u'pindustry_Other', u'pindustry_Real estate / Rental',\n",
       "       u'pindustry_Repair / Mechanic', u'pindustry_Restaurant / Caterers',\n",
       "       u'pindustry_Retail - General', u'pindustry_Retail - Wholesale',\n",
       "       u'pindustry_Services', u'pindustry_Social Enterprise',\n",
       "       u'pindustry_Technology', u'pindustry_Transportation',\n",
       "       u'pex_3 years - 5 years', u'pex_6 months - 1 year', u'pex_<6 months',\n",
       "       u'pex_More than 5 years', u'pex_New Business', u'pinternet_monthly',\n",
       "       u'pinternet_never', u'pinternet_weekly', u'peducation_high_school',\n",
       "       u'peducation_post_college', u'peducation_primary',\n",
       "       u'ethnicity_african_american', u'ethnicity_asian',\n",
       "       u'ethnicity_biracial', u'ethnicity_caucasian', u'ethnicity_hispanic',\n",
       "       u'ethnicity_native_american', u'ethnicity_pacific_islander', u'text'],\n",
       "      dtype='object')"
      ]
     },
     "execution_count": 190,
     "metadata": {},
     "output_type": "execute_result"
    }
   ],
   "source": [
    "kiva.columns"
   ]
  },
  {
   "cell_type": "code",
   "execution_count": 203,
   "metadata": {
    "collapsed": false
   },
   "outputs": [],
   "source": [
    "feature_cols = ['size', 'invited_lenders', 'conversations', 'term', 'trustee_new'] \n",
    "\n",
    "#kiva.columns[-13:]\n",
    "\n",
    "X = kiva[feature_cols]\n",
    "y = kiva.Bucket"
   ]
  },
  {
   "cell_type": "code",
   "execution_count": 207,
   "metadata": {
    "collapsed": false
   },
   "outputs": [],
   "source": [
    "X = X.fillna(0)"
   ]
  },
  {
   "cell_type": "code",
   "execution_count": 208,
   "metadata": {
    "collapsed": false,
    "scrolled": true
   },
   "outputs": [
    {
     "data": {
      "text/plain": [
       "0.31656107652588555"
      ]
     },
     "execution_count": 208,
     "metadata": {},
     "output_type": "execute_result"
    }
   ],
   "source": [
    "from sklearn.linear_model import LogisticRegression\n",
    "from sklearn.cross_validation import cross_val_score\n",
    "from sklearn.neighbors import KNeighborsClassifier\n",
    "\n",
    "\n",
    "logreg = LogisticRegression()\n",
    "cross_val_score(logreg, X, y, cv=10, scoring='accuracy').mean()"
   ]
  },
  {
   "cell_type": "code",
   "execution_count": null,
   "metadata": {
    "collapsed": false,
    "scrolled": true
   },
   "outputs": [],
   "source": []
  },
  {
   "cell_type": "code",
   "execution_count": null,
   "metadata": {
    "collapsed": false,
    "scrolled": true
   },
   "outputs": [],
   "source": [
    "X = yelp_best_worst.text\n",
    "y = yelp_best_worst.stars\n",
    "print y.value_counts()\n",
    "\n",
    "# split the new DataFrame into training and testing sets\n",
    "X_train, X_test, y_train, y_test = train_test_split(X, y, random_state=1)\n"
   ]
  },
  {
   "cell_type": "code",
   "execution_count": null,
   "metadata": {
    "collapsed": true
   },
   "outputs": [],
   "source": []
  },
  {
   "cell_type": "code",
   "execution_count": 187,
   "metadata": {
    "collapsed": false,
    "scrolled": true
   },
   "outputs": [],
   "source": [
    "import sys\n",
    "sys.path = ['', '/Library/Frameworks/Python.framework/Versions/2.7/lib/python27.zip', '/Library/Frameworks/Python.framework/Versions/2.7/lib/python2.7', '/Library/Frameworks/Python.framework/Versions/2.7/lib/python2.7/plat-darwin', '/Library/Frameworks/Python.framework/Versions/2.7/lib/python2.7/plat-mac', '/Library/Frameworks/Python.framework/Versions/2.7/lib/python2.7/plat-mac/lib-scriptpackages', '/Library/Frameworks/Python.framework/Versions/2.7/lib/python2.7/lib-tk', '/Library/Frameworks/Python.framework/Versions/2.7/lib/python2.7/lib-old', '/Library/Frameworks/Python.framework/Versions/2.7/lib/python2.7/lib-dynload', '/Library/Frameworks/Python.framework/Versions/2.7/lib/python2.7/site-packages', '/Library/Python/2.7/site-packages']\n",
    "import pandas as pd\n",
    "import numpy as np\n",
    "import scipy as sp\n",
    "from sklearn.cross_validation import train_test_split\n",
    "from sklearn.feature_extraction.text import CountVectorizer, TfidfVectorizer\n",
    "from sklearn.linear_model import LogisticRegression\n",
    "from sklearn import metrics\n",
    "from textblob import TextBlob, Word\n",
    "from nltk.stem.snowball import SnowballStemmer\n",
    "%matplotlib inline\n"
   ]
  },
  {
   "cell_type": "code",
   "execution_count": null,
   "metadata": {
    "collapsed": false
   },
   "outputs": [],
   "source": []
  },
  {
   "cell_type": "code",
   "execution_count": 443,
   "metadata": {
    "collapsed": false
   },
   "outputs": [],
   "source": [
    "kiva['text'] = kiva.loan_purpose +' '+ kiva.personal_story + \" \"+ kiva.business_description\n",
    "kiva_truncated = kiva[['text', 'size', 'Bucket_new', 'conversations', 'trustee_new']]\n",
    "\n",
    "kiva_truncated = kiva_truncated.dropna()\n",
    "def f(x): return x.decode('utf-8', 'ignore')\n",
    "kiva_truncated.text = kiva_truncated.text.apply(f)\n",
    "y = kiva_truncated.Bucket_new\n",
    "\n",
    "print y.value_counts()"
   ]
  },
  {
   "cell_type": "code",
   "execution_count": 444,
   "metadata": {
    "collapsed": false
   },
   "outputs": [
    {
     "data": {
      "text/plain": [
       "(1426, 5)"
      ]
     },
     "execution_count": 444,
     "metadata": {},
     "output_type": "execute_result"
    }
   ],
   "source": [
    "kiva_truncated.shape"
   ]
  },
  {
   "cell_type": "code",
   "execution_count": 445,
   "metadata": {
    "collapsed": false
   },
   "outputs": [
    {
     "data": {
      "text/plain": [
       "0.5974754558204769"
      ]
     },
     "execution_count": 445,
     "metadata": {},
     "output_type": "execute_result"
    }
   ],
   "source": [
    "# null accuracy\n",
    "\n",
    "y.value_counts()\n",
    "\n",
    "# 876./(876+606)\n",
    "\n",
    "list(y.value_counts())[0] / float(y.shape[0])\n"
   ]
  },
  {
   "cell_type": "code",
   "execution_count": 446,
   "metadata": {
    "collapsed": false
   },
   "outputs": [
    {
     "data": {
      "text/html": [
       "<div>\n",
       "<table border=\"1\" class=\"dataframe\">\n",
       "  <thead>\n",
       "    <tr style=\"text-align: right;\">\n",
       "      <th></th>\n",
       "      <th>text</th>\n",
       "      <th>size</th>\n",
       "      <th>conversations</th>\n",
       "      <th>trustee_new</th>\n",
       "    </tr>\n",
       "  </thead>\n",
       "  <tbody>\n",
       "    <tr>\n",
       "      <th>1884</th>\n",
       "      <td>What is the purpose of this loan?\\rI will use ...</td>\n",
       "      <td>5000</td>\n",
       "      <td>2.0</td>\n",
       "      <td>1</td>\n",
       "    </tr>\n",
       "    <tr>\n",
       "      <th>812</th>\n",
       "      <td>What is the purpose of this loan?\\rThis loan w...</td>\n",
       "      <td>2500</td>\n",
       "      <td>7.0</td>\n",
       "      <td>0</td>\n",
       "    </tr>\n",
       "    <tr>\n",
       "      <th>2143</th>\n",
       "      <td>What is the purpose of this loan?\\rThis loan w...</td>\n",
       "      <td>5000</td>\n",
       "      <td>52.0</td>\n",
       "      <td>1</td>\n",
       "    </tr>\n",
       "    <tr>\n",
       "      <th>1705</th>\n",
       "      <td>What is the purpose of this loan?\\rWe quickly ...</td>\n",
       "      <td>5000</td>\n",
       "      <td>3.0</td>\n",
       "      <td>0</td>\n",
       "    </tr>\n",
       "    <tr>\n",
       "      <th>1042</th>\n",
       "      <td>What is the purpose of this loan?\\rLooking at ...</td>\n",
       "      <td>3000</td>\n",
       "      <td>5.0</td>\n",
       "      <td>0</td>\n",
       "    </tr>\n",
       "  </tbody>\n",
       "</table>\n",
       "</div>"
      ],
      "text/plain": [
       "                                                   text  size  conversations  \\\n",
       "1884  What is the purpose of this loan?\\rI will use ...  5000            2.0   \n",
       "812   What is the purpose of this loan?\\rThis loan w...  2500            7.0   \n",
       "2143  What is the purpose of this loan?\\rThis loan w...  5000           52.0   \n",
       "1705  What is the purpose of this loan?\\rWe quickly ...  5000            3.0   \n",
       "1042  What is the purpose of this loan?\\rLooking at ...  3000            5.0   \n",
       "\n",
       "      trustee_new  \n",
       "1884            1  \n",
       "812             0  \n",
       "2143            1  \n",
       "1705            0  \n",
       "1042            0  "
      ]
     },
     "execution_count": 446,
     "metadata": {},
     "output_type": "execute_result"
    }
   ],
   "source": [
    "X_train, X_test, y_train, y_test = train_test_split(kiva_truncated.drop('Bucket_new', axis=1), y, random_state=1)\n",
    "X_train.head()"
   ]
  },
  {
   "cell_type": "code",
   "execution_count": 447,
   "metadata": {
    "collapsed": false,
    "scrolled": true
   },
   "outputs": [],
   "source": [
    "\n",
    "\n",
    "vect = CountVectorizer()\n",
    "X_train_dtm = vect.fit_transform(X_train.text)\n",
    "X_test_dtm = vect.transform(X_test.text)"
   ]
  },
  {
   "cell_type": "code",
   "execution_count": 448,
   "metadata": {
    "collapsed": false
   },
   "outputs": [
    {
     "data": {
      "text/plain": [
       "(1069, 21872)"
      ]
     },
     "execution_count": 448,
     "metadata": {},
     "output_type": "execute_result"
    }
   ],
   "source": [
    "X_train_dtm.shape"
   ]
  },
  {
   "cell_type": "code",
   "execution_count": 449,
   "metadata": {
    "collapsed": false,
    "scrolled": true
   },
   "outputs": [
    {
     "data": {
      "text/plain": [
       "[u'00',\n",
       " u'000',\n",
       " u'000lbs',\n",
       " u'008',\n",
       " u'00am',\n",
       " u'00pm',\n",
       " u'01',\n",
       " u'012',\n",
       " u'016',\n",
       " u'03',\n",
       " u'035',\n",
       " u'040',\n",
       " u'05',\n",
       " u'067',\n",
       " u'07',\n",
       " u'070',\n",
       " u'075',\n",
       " u'08',\n",
       " u'080',\n",
       " u'09',\n",
       " u'0tqgsovabcs',\n",
       " u'10',\n",
       " u'100',\n",
       " u'1000',\n",
       " u'10000',\n",
       " u'100k',\n",
       " u'100lbs',\n",
       " u'100s',\n",
       " u'101',\n",
       " u'102',\n",
       " u'103',\n",
       " u'104',\n",
       " u'105f',\n",
       " u'106',\n",
       " u'1066',\n",
       " u'1078',\n",
       " u'108th',\n",
       " u'10k',\n",
       " u'10th',\n",
       " u'10x']"
      ]
     },
     "execution_count": 449,
     "metadata": {},
     "output_type": "execute_result"
    }
   ],
   "source": [
    "vect.get_feature_names()[:40]"
   ]
  },
  {
   "cell_type": "code",
   "execution_count": 450,
   "metadata": {
    "collapsed": false
   },
   "outputs": [],
   "source": [
    "vect = CountVectorizer(ngram_range=(1, 2))\n",
    "X_train_dtm = vect.fit_transform(X_train)\n",
    "X_train_dtm.shape\n",
    "X_test_dtm = vect.transform(X_test)\n",
    "# including 1 grams and 2 grams"
   ]
  },
  {
   "cell_type": "code",
   "execution_count": 451,
   "metadata": {
    "collapsed": false,
    "scrolled": true
   },
   "outputs": [
    {
     "data": {
      "text/plain": [
       "[u'conversations', u'size', u'text', u'trustee_new']"
      ]
     },
     "execution_count": 451,
     "metadata": {},
     "output_type": "execute_result"
    }
   ],
   "source": [
    "# last 50 features\n",
    "vect.get_feature_names()[-50:]"
   ]
  },
  {
   "cell_type": "code",
   "execution_count": 452,
   "metadata": {
    "collapsed": false
   },
   "outputs": [
    {
     "data": {
      "text/plain": [
       "text             0\n",
       "size             0\n",
       "Bucket_new       0\n",
       "conversations    0\n",
       "trustee_new      0\n",
       "dtype: int64"
      ]
     },
     "execution_count": 452,
     "metadata": {},
     "output_type": "execute_result"
    }
   ],
   "source": [
    "kiva_truncated.isnull().sum()"
   ]
  },
  {
   "cell_type": "code",
   "execution_count": 453,
   "metadata": {
    "collapsed": false
   },
   "outputs": [
    {
     "data": {
      "text/plain": [
       "0.66666666666666663"
      ]
     },
     "execution_count": 453,
     "metadata": {},
     "output_type": "execute_result"
    }
   ],
   "source": [
    "# # use default options for CountVectorizer\n",
    "# vect = CountVectorizer()\n",
    "\n",
    "# # create document-term matrices :: only single words\n",
    "# X_train_dtm = vect.fit_transform(X_train)\n",
    "# X_test_dtm = vect.transform(X_test)\n",
    "\n",
    "vect = TfidfVectorizer(ngram_range=(1, 2), max_features=10000)\n",
    "X_train_dtm = vect.fit_transform(X_train.text)\n",
    "X_test_dtm = vect.transform(X_test.text)\n",
    "\n",
    "X_train_dtm_as_df = pd.DataFrame(X_train_dtm.toarray(), columns = vect.get_feature_names())\n",
    "X_train_dtm_as_df['loan_size'] = list(X_train['size'])\n",
    "\n",
    "X_test_dtm_as_df = pd.DataFrame(X_test_dtm.toarray(), columns = vect.get_feature_names())\n",
    "X_test_dtm_as_df['loan_size'] = list(X_test['size'])\n",
    "print X_test_dtm_as_df\n",
    "\n",
    "\n",
    "\n",
    "# use logistic regression with text column only\n",
    "logreg = LogisticRegression()\n",
    "logreg.fit(X_train_dtm_as_df, y_train)\n",
    "y_pred_class = logreg.predict(X_test_dtm_as_df)\n",
    "\n",
    "# calculate accuracy\n",
    "metrics.accuracy_score(y_test, y_pred_class)"
   ]
  },
  {
   "cell_type": "code",
   "execution_count": 454,
   "metadata": {
    "collapsed": false
   },
   "outputs": [
    {
     "data": {
      "text/plain": [
       "0        5000\n",
       "1        2500\n",
       "2        5000\n",
       "3        5000\n",
       "4        3000\n",
       "5       10000\n",
       "6        5000\n",
       "7        5000\n",
       "8        1000\n",
       "9        5000\n",
       "10       6000\n",
       "11       3850\n",
       "12       5000\n",
       "13       5000\n",
       "14       5000\n",
       "15       5000\n",
       "16       5000\n",
       "17       5000\n",
       "18      10000\n",
       "19      10000\n",
       "20       5000\n",
       "21        300\n",
       "22       5000\n",
       "23       4000\n",
       "24       5000\n",
       "25       5000\n",
       "26       5000\n",
       "27      10000\n",
       "28       5000\n",
       "29       2500\n",
       "        ...  \n",
       "1039     1000\n",
       "1040     8000\n",
       "1041     5000\n",
       "1042     5000\n",
       "1043     5000\n",
       "1044     5000\n",
       "1045    10000\n",
       "1046     5000\n",
       "1047     5000\n",
       "1048     5000\n",
       "1049     5000\n",
       "1050     8000\n",
       "1051     5000\n",
       "1052     4400\n",
       "1053    10000\n",
       "1054    10000\n",
       "1055     5000\n",
       "1056     2500\n",
       "1057    10000\n",
       "1058     5000\n",
       "1059     5000\n",
       "1060     2500\n",
       "1061     2500\n",
       "1062     5000\n",
       "1063     4725\n",
       "1064     5000\n",
       "1065     2000\n",
       "1066     5000\n",
       "1067     5000\n",
       "1068     2500\n",
       "Name: loan_size, dtype: int64"
      ]
     },
     "execution_count": 454,
     "metadata": {},
     "output_type": "execute_result"
    }
   ],
   "source": [
    "X_train_dtm_as_df['loan_size']"
   ]
  },
  {
   "cell_type": "code",
   "execution_count": null,
   "metadata": {
    "collapsed": true
   },
   "outputs": [],
   "source": []
  }
 ],
 "metadata": {
  "kernelspec": {
   "display_name": "Python 2",
   "language": "python",
   "name": "python2"
  },
  "language_info": {
   "codemirror_mode": {
    "name": "ipython",
    "version": 2
   },
   "file_extension": ".py",
   "mimetype": "text/x-python",
   "name": "python",
   "nbconvert_exporter": "python",
   "pygments_lexer": "ipython2",
   "version": "2.7.11"
  }
 },
 "nbformat": 4,
 "nbformat_minor": 0
}
